{
 "cells": [
  {
   "cell_type": "code",
   "execution_count": 1,
   "metadata": {},
   "outputs": [],
   "source": [
    "import pandas as pd\n",
    "import numpy as np\n",
    "import matplotlib.pyplot as plt\n",
    "%matplotlib inline\n",
    "import sklearn as skl"
   ]
  },
  {
   "cell_type": "code",
   "execution_count": 2,
   "metadata": {},
   "outputs": [],
   "source": [
    "import scipy\n",
    "from sklearn.model_selection import train_test_split"
   ]
  },
  {
   "cell_type": "code",
   "execution_count": 3,
   "metadata": {},
   "outputs": [],
   "source": [
    "train = pd.read_csv(\"data2018/BigDataSchool_train_set.csv\",delimiter=\",\")\n",
    "test = pd.read_csv(\"data2018/BigDataSchool_test_set.csv\",delimiter=\",\")\n",
    "features = pd.read_csv(\"data2018/BigDataSchool_features.csv\",delimiter=\",\")"
   ]
  },
  {
   "cell_type": "code",
   "execution_count": 4,
   "metadata": {},
   "outputs": [
    {
     "data": {
      "text/html": [
       "<div>\n",
       "<style scoped>\n",
       "    .dataframe tbody tr th:only-of-type {\n",
       "        vertical-align: middle;\n",
       "    }\n",
       "\n",
       "    .dataframe tbody tr th {\n",
       "        vertical-align: top;\n",
       "    }\n",
       "\n",
       "    .dataframe thead th {\n",
       "        text-align: right;\n",
       "    }\n",
       "</style>\n",
       "<table border=\"1\" class=\"dataframe\">\n",
       "  <thead>\n",
       "    <tr style=\"text-align: right;\">\n",
       "      <th></th>\n",
       "      <th>ID</th>\n",
       "      <th>TARGET</th>\n",
       "    </tr>\n",
       "  </thead>\n",
       "  <tbody>\n",
       "    <tr>\n",
       "      <th>0</th>\n",
       "      <td>2</td>\n",
       "      <td>0.0</td>\n",
       "    </tr>\n",
       "    <tr>\n",
       "      <th>1</th>\n",
       "      <td>4</td>\n",
       "      <td>0.0</td>\n",
       "    </tr>\n",
       "    <tr>\n",
       "      <th>2</th>\n",
       "      <td>5</td>\n",
       "      <td>0.0</td>\n",
       "    </tr>\n",
       "    <tr>\n",
       "      <th>3</th>\n",
       "      <td>8</td>\n",
       "      <td>0.0</td>\n",
       "    </tr>\n",
       "    <tr>\n",
       "      <th>4</th>\n",
       "      <td>9</td>\n",
       "      <td>0.0</td>\n",
       "    </tr>\n",
       "  </tbody>\n",
       "</table>\n",
       "</div>"
      ],
      "text/plain": [
       "   ID  TARGET\n",
       "0   2     0.0\n",
       "1   4     0.0\n",
       "2   5     0.0\n",
       "3   8     0.0\n",
       "4   9     0.0"
      ]
     },
     "execution_count": 4,
     "metadata": {},
     "output_type": "execute_result"
    }
   ],
   "source": [
    "train.head()"
   ]
  },
  {
   "cell_type": "code",
   "execution_count": 5,
   "metadata": {},
   "outputs": [
    {
     "data": {
      "text/html": [
       "<div>\n",
       "<style scoped>\n",
       "    .dataframe tbody tr th:only-of-type {\n",
       "        vertical-align: middle;\n",
       "    }\n",
       "\n",
       "    .dataframe tbody tr th {\n",
       "        vertical-align: top;\n",
       "    }\n",
       "\n",
       "    .dataframe thead th {\n",
       "        text-align: right;\n",
       "    }\n",
       "</style>\n",
       "<table border=\"1\" class=\"dataframe\">\n",
       "  <thead>\n",
       "    <tr style=\"text-align: right;\">\n",
       "      <th></th>\n",
       "      <th>ID</th>\n",
       "      <th>TARGET</th>\n",
       "    </tr>\n",
       "  </thead>\n",
       "  <tbody>\n",
       "    <tr>\n",
       "      <th>0</th>\n",
       "      <td>1</td>\n",
       "      <td>NaN</td>\n",
       "    </tr>\n",
       "    <tr>\n",
       "      <th>1</th>\n",
       "      <td>3</td>\n",
       "      <td>NaN</td>\n",
       "    </tr>\n",
       "    <tr>\n",
       "      <th>2</th>\n",
       "      <td>6</td>\n",
       "      <td>NaN</td>\n",
       "    </tr>\n",
       "    <tr>\n",
       "      <th>3</th>\n",
       "      <td>7</td>\n",
       "      <td>NaN</td>\n",
       "    </tr>\n",
       "    <tr>\n",
       "      <th>4</th>\n",
       "      <td>12</td>\n",
       "      <td>NaN</td>\n",
       "    </tr>\n",
       "  </tbody>\n",
       "</table>\n",
       "</div>"
      ],
      "text/plain": [
       "   ID  TARGET\n",
       "0   1     NaN\n",
       "1   3     NaN\n",
       "2   6     NaN\n",
       "3   7     NaN\n",
       "4  12     NaN"
      ]
     },
     "execution_count": 5,
     "metadata": {},
     "output_type": "execute_result"
    }
   ],
   "source": [
    "test.head()"
   ]
  },
  {
   "cell_type": "code",
   "execution_count": 6,
   "metadata": {},
   "outputs": [
    {
     "data": {
      "text/html": [
       "<div>\n",
       "<style scoped>\n",
       "    .dataframe tbody tr th:only-of-type {\n",
       "        vertical-align: middle;\n",
       "    }\n",
       "\n",
       "    .dataframe tbody tr th {\n",
       "        vertical-align: top;\n",
       "    }\n",
       "\n",
       "    .dataframe thead th {\n",
       "        text-align: right;\n",
       "    }\n",
       "</style>\n",
       "<table border=\"1\" class=\"dataframe\">\n",
       "  <thead>\n",
       "    <tr style=\"text-align: right;\">\n",
       "      <th></th>\n",
       "      <th>ID</th>\n",
       "      <th>MONTH_NUM_FROM_EVENT</th>\n",
       "      <th>F1</th>\n",
       "      <th>F2</th>\n",
       "      <th>F3</th>\n",
       "      <th>F4</th>\n",
       "      <th>F5</th>\n",
       "      <th>F6</th>\n",
       "      <th>F7</th>\n",
       "      <th>F8</th>\n",
       "      <th>...</th>\n",
       "      <th>F38</th>\n",
       "      <th>F39</th>\n",
       "      <th>F40</th>\n",
       "      <th>F41</th>\n",
       "      <th>F42</th>\n",
       "      <th>F43</th>\n",
       "      <th>F44</th>\n",
       "      <th>F45</th>\n",
       "      <th>F46</th>\n",
       "      <th>F47</th>\n",
       "    </tr>\n",
       "  </thead>\n",
       "  <tbody>\n",
       "    <tr>\n",
       "      <th>0</th>\n",
       "      <td>2</td>\n",
       "      <td>1</td>\n",
       "      <td>4.0</td>\n",
       "      <td>133.0</td>\n",
       "      <td>28.0</td>\n",
       "      <td>NaN</td>\n",
       "      <td>0.0</td>\n",
       "      <td>NaN</td>\n",
       "      <td>518.98</td>\n",
       "      <td>2.60</td>\n",
       "      <td>...</td>\n",
       "      <td>89.0</td>\n",
       "      <td>137.0</td>\n",
       "      <td>0.0</td>\n",
       "      <td>2.0</td>\n",
       "      <td>2.0</td>\n",
       "      <td>1.0</td>\n",
       "      <td>0.0</td>\n",
       "      <td>0.0</td>\n",
       "      <td>2.0</td>\n",
       "      <td>958.0</td>\n",
       "    </tr>\n",
       "    <tr>\n",
       "      <th>1</th>\n",
       "      <td>2</td>\n",
       "      <td>2</td>\n",
       "      <td>NaN</td>\n",
       "      <td>132.0</td>\n",
       "      <td>29.0</td>\n",
       "      <td>24.0</td>\n",
       "      <td>0.0</td>\n",
       "      <td>578.35</td>\n",
       "      <td>574.98</td>\n",
       "      <td>2.80</td>\n",
       "      <td>...</td>\n",
       "      <td>141.0</td>\n",
       "      <td>93.0</td>\n",
       "      <td>NaN</td>\n",
       "      <td>2.0</td>\n",
       "      <td>3.0</td>\n",
       "      <td>1.0</td>\n",
       "      <td>0.0</td>\n",
       "      <td>0.0</td>\n",
       "      <td>2.0</td>\n",
       "      <td>936.0</td>\n",
       "    </tr>\n",
       "    <tr>\n",
       "      <th>2</th>\n",
       "      <td>2</td>\n",
       "      <td>3</td>\n",
       "      <td>NaN</td>\n",
       "      <td>131.0</td>\n",
       "      <td>NaN</td>\n",
       "      <td>29.0</td>\n",
       "      <td>0.0</td>\n",
       "      <td>430.13</td>\n",
       "      <td>426.32</td>\n",
       "      <td>0.93</td>\n",
       "      <td>...</td>\n",
       "      <td>128.0</td>\n",
       "      <td>114.0</td>\n",
       "      <td>1.0</td>\n",
       "      <td>3.0</td>\n",
       "      <td>3.0</td>\n",
       "      <td>1.0</td>\n",
       "      <td>0.0</td>\n",
       "      <td>0.0</td>\n",
       "      <td>1.0</td>\n",
       "      <td>919.0</td>\n",
       "    </tr>\n",
       "    <tr>\n",
       "      <th>3</th>\n",
       "      <td>2</td>\n",
       "      <td>4</td>\n",
       "      <td>4.0</td>\n",
       "      <td>130.0</td>\n",
       "      <td>31.0</td>\n",
       "      <td>7.0</td>\n",
       "      <td>NaN</td>\n",
       "      <td>479.33</td>\n",
       "      <td>477.13</td>\n",
       "      <td>0.00</td>\n",
       "      <td>...</td>\n",
       "      <td>3.0</td>\n",
       "      <td>137.0</td>\n",
       "      <td>0.0</td>\n",
       "      <td>3.0</td>\n",
       "      <td>3.0</td>\n",
       "      <td>1.0</td>\n",
       "      <td>0.0</td>\n",
       "      <td>0.0</td>\n",
       "      <td>3.0</td>\n",
       "      <td>618.0</td>\n",
       "    </tr>\n",
       "    <tr>\n",
       "      <th>4</th>\n",
       "      <td>2</td>\n",
       "      <td>5</td>\n",
       "      <td>8.0</td>\n",
       "      <td>129.0</td>\n",
       "      <td>26.0</td>\n",
       "      <td>2.0</td>\n",
       "      <td>0.0</td>\n",
       "      <td>358.12</td>\n",
       "      <td>339.03</td>\n",
       "      <td>15.28</td>\n",
       "      <td>...</td>\n",
       "      <td>2.0</td>\n",
       "      <td>NaN</td>\n",
       "      <td>0.0</td>\n",
       "      <td>4.0</td>\n",
       "      <td>4.0</td>\n",
       "      <td>2.0</td>\n",
       "      <td>NaN</td>\n",
       "      <td>0.0</td>\n",
       "      <td>2.0</td>\n",
       "      <td>NaN</td>\n",
       "    </tr>\n",
       "  </tbody>\n",
       "</table>\n",
       "<p>5 rows × 48 columns</p>\n",
       "</div>"
      ],
      "text/plain": [
       "   ID  MONTH_NUM_FROM_EVENT   F1     F2    F3    F4   F5      F6      F7  \\\n",
       "0   2                     1  4.0  133.0  28.0   NaN  0.0     NaN  518.98   \n",
       "1   2                     2  NaN  132.0  29.0  24.0  0.0  578.35  574.98   \n",
       "2   2                     3  NaN  131.0   NaN  29.0  0.0  430.13  426.32   \n",
       "3   2                     4  4.0  130.0  31.0   7.0  NaN  479.33  477.13   \n",
       "4   2                     5  8.0  129.0  26.0   2.0  0.0  358.12  339.03   \n",
       "\n",
       "      F8  ...      F38    F39  F40  F41  F42  F43  F44  F45  F46    F47  \n",
       "0   2.60  ...     89.0  137.0  0.0  2.0  2.0  1.0  0.0  0.0  2.0  958.0  \n",
       "1   2.80  ...    141.0   93.0  NaN  2.0  3.0  1.0  0.0  0.0  2.0  936.0  \n",
       "2   0.93  ...    128.0  114.0  1.0  3.0  3.0  1.0  0.0  0.0  1.0  919.0  \n",
       "3   0.00  ...      3.0  137.0  0.0  3.0  3.0  1.0  0.0  0.0  3.0  618.0  \n",
       "4  15.28  ...      2.0    NaN  0.0  4.0  4.0  2.0  NaN  0.0  2.0    NaN  \n",
       "\n",
       "[5 rows x 48 columns]"
      ]
     },
     "execution_count": 6,
     "metadata": {},
     "output_type": "execute_result"
    }
   ],
   "source": [
    "features.head()"
   ]
  },
  {
   "cell_type": "code",
   "execution_count": null,
   "metadata": {},
   "outputs": [],
   "source": []
  },
  {
   "cell_type": "code",
   "execution_count": 7,
   "metadata": {},
   "outputs": [
    {
     "name": "stdout",
     "output_type": "stream",
     "text": [
      "ID                        0.000000\n",
      "MONTH_NUM_FROM_EVENT      0.000000\n",
      "F1                        3.729766\n",
      "F2                        4.989823\n",
      "F3                        4.914219\n",
      "F4                        5.046041\n",
      "F5                        4.996608\n",
      "F6                        4.899680\n",
      "F7                        5.141029\n",
      "F8                        4.944267\n",
      "F9                        4.984976\n",
      "F10                       5.045071\n",
      "F11                       4.979161\n",
      "F12                       5.080934\n",
      "F13                       5.036348\n",
      "F14                       4.855094\n",
      "F15                       5.006300\n",
      "F16                       5.044102\n",
      "F17                       5.023747\n",
      "F18                       4.844432\n",
      "F19                       4.924881\n",
      "F20                       5.070272\n",
      "F21                       4.815353\n",
      "F22                       4.922943\n",
      "F23                     100.000000\n",
      "F24                       4.940390\n",
      "F26                       4.959775\n",
      "F27                       4.998546\n",
      "F28                       5.217602\n",
      "F29                       4.920035\n",
      "F30                       4.921004\n",
      "F31                       4.999515\n",
      "F32                       4.991761\n",
      "F33                      67.981002\n",
      "F34                      67.902491\n",
      "F35                      17.030144\n",
      "F36                      16.905108\n",
      "F37                      14.704856\n",
      "F38                      14.668024\n",
      "F39                      19.616167\n",
      "F40                      19.681109\n",
      "F41                      19.544441\n",
      "F42                      19.562857\n",
      "F43                      23.557236\n",
      "F44                      23.538819\n",
      "F45                      23.535912\n",
      "F46                      20.807405\n",
      "F47                      20.698847\n",
      "dtype: float64\n"
     ]
    }
   ],
   "source": [
    "print(features.isnull().sum()*100/103170) #% of missings. F25 does not exist! F33-34 - too much missings"
   ]
  },
  {
   "cell_type": "code",
   "execution_count": 8,
   "metadata": {},
   "outputs": [
    {
     "data": {
      "text/plain": [
       "(12890, 2)"
      ]
     },
     "execution_count": 8,
     "metadata": {},
     "output_type": "execute_result"
    }
   ],
   "source": [
    "train.shape"
   ]
  },
  {
   "cell_type": "code",
   "execution_count": 9,
   "metadata": {},
   "outputs": [
    {
     "data": {
      "text/plain": [
       "(4305, 2)"
      ]
     },
     "execution_count": 9,
     "metadata": {},
     "output_type": "execute_result"
    }
   ],
   "source": [
    "test.shape"
   ]
  },
  {
   "cell_type": "code",
   "execution_count": 10,
   "metadata": {},
   "outputs": [
    {
     "data": {
      "text/plain": [
       "(103170, 48)"
      ]
     },
     "execution_count": 10,
     "metadata": {},
     "output_type": "execute_result"
    }
   ],
   "source": [
    "features.shape"
   ]
  },
  {
   "cell_type": "code",
   "execution_count": 11,
   "metadata": {},
   "outputs": [
    {
     "data": {
      "text/plain": [
       "True"
      ]
     },
     "execution_count": 11,
     "metadata": {},
     "output_type": "execute_result"
    }
   ],
   "source": [
    "set(train['ID']).intersection(set(features['ID'])) == set(train['ID'])"
   ]
  },
  {
   "cell_type": "code",
   "execution_count": 12,
   "metadata": {},
   "outputs": [
    {
     "data": {
      "text/plain": [
       "True"
      ]
     },
     "execution_count": 12,
     "metadata": {},
     "output_type": "execute_result"
    }
   ],
   "source": [
    "set(test['ID']).intersection(set(features['ID'])) == set(test['ID'])"
   ]
  },
  {
   "cell_type": "code",
   "execution_count": 13,
   "metadata": {},
   "outputs": [
    {
     "data": {
      "text/plain": [
       "(12890,)"
      ]
     },
     "execution_count": 13,
     "metadata": {},
     "output_type": "execute_result"
    }
   ],
   "source": [
    "train.ID.value_counts().shape"
   ]
  },
  {
   "cell_type": "code",
   "execution_count": 14,
   "metadata": {},
   "outputs": [
    {
     "data": {
      "text/plain": [
       "0.0    11848\n",
       "1.0     1042\n",
       "Name: TARGET, dtype: int64"
      ]
     },
     "execution_count": 14,
     "metadata": {},
     "output_type": "execute_result"
    }
   ],
   "source": [
    "train.TARGET.value_counts()"
   ]
  },
  {
   "cell_type": "code",
   "execution_count": 15,
   "metadata": {},
   "outputs": [
    {
     "data": {
      "text/plain": [
       "(4305,)"
      ]
     },
     "execution_count": 15,
     "metadata": {},
     "output_type": "execute_result"
    }
   ],
   "source": [
    "test.ID.value_counts().shape"
   ]
  },
  {
   "cell_type": "code",
   "execution_count": 16,
   "metadata": {},
   "outputs": [
    {
     "data": {
      "text/plain": [
       "(6,)"
      ]
     },
     "execution_count": 16,
     "metadata": {},
     "output_type": "execute_result"
    }
   ],
   "source": [
    "features.MONTH_NUM_FROM_EVENT.value_counts().shape"
   ]
  },
  {
   "cell_type": "code",
   "execution_count": 17,
   "metadata": {},
   "outputs": [],
   "source": [
    "#for column in features.columns[1:]:\n",
    "    #print features.column.value_counts().shape\n",
    "    #print(features[column]) \n",
    "    #for i in range(1, 48):\n",
    "    #namevar = \"F\"+str(i)\n",
    "    #print(namevar + \" distinct values: \"+ str(features.namevar.value_counts().shape))"
   ]
  },
  {
   "cell_type": "code",
   "execution_count": 18,
   "metadata": {},
   "outputs": [],
   "source": [
    "data = features.groupby(by=['ID']).mean()"
   ]
  },
  {
   "cell_type": "code",
   "execution_count": 19,
   "metadata": {},
   "outputs": [],
   "source": [
    "#data.describe().to_excel(\"descr.xlsx\") #done!"
   ]
  },
  {
   "cell_type": "code",
   "execution_count": 20,
   "metadata": {},
   "outputs": [],
   "source": [
    "#data.nunique().to_excel(\"nuniq.xlsx\") #done!"
   ]
  },
  {
   "cell_type": "code",
   "execution_count": 21,
   "metadata": {},
   "outputs": [
    {
     "data": {
      "text/plain": [
       "(17195, 47)"
      ]
     },
     "execution_count": 21,
     "metadata": {},
     "output_type": "execute_result"
    }
   ],
   "source": [
    "data.shape #as expected"
   ]
  },
  {
   "cell_type": "code",
   "execution_count": 22,
   "metadata": {},
   "outputs": [
    {
     "data": {
      "text/html": [
       "<div>\n",
       "<style scoped>\n",
       "    .dataframe tbody tr th:only-of-type {\n",
       "        vertical-align: middle;\n",
       "    }\n",
       "\n",
       "    .dataframe tbody tr th {\n",
       "        vertical-align: top;\n",
       "    }\n",
       "\n",
       "    .dataframe thead th {\n",
       "        text-align: right;\n",
       "    }\n",
       "</style>\n",
       "<table border=\"1\" class=\"dataframe\">\n",
       "  <thead>\n",
       "    <tr style=\"text-align: right;\">\n",
       "      <th></th>\n",
       "      <th>MONTH_NUM_FROM_EVENT</th>\n",
       "      <th>F1</th>\n",
       "      <th>F2</th>\n",
       "      <th>F3</th>\n",
       "      <th>F4</th>\n",
       "      <th>F5</th>\n",
       "      <th>F6</th>\n",
       "      <th>F7</th>\n",
       "      <th>F8</th>\n",
       "      <th>F9</th>\n",
       "      <th>...</th>\n",
       "      <th>F38</th>\n",
       "      <th>F39</th>\n",
       "      <th>F40</th>\n",
       "      <th>F41</th>\n",
       "      <th>F42</th>\n",
       "      <th>F43</th>\n",
       "      <th>F44</th>\n",
       "      <th>F45</th>\n",
       "      <th>F46</th>\n",
       "      <th>F47</th>\n",
       "    </tr>\n",
       "    <tr>\n",
       "      <th>ID</th>\n",
       "      <th></th>\n",
       "      <th></th>\n",
       "      <th></th>\n",
       "      <th></th>\n",
       "      <th></th>\n",
       "      <th></th>\n",
       "      <th></th>\n",
       "      <th></th>\n",
       "      <th></th>\n",
       "      <th></th>\n",
       "      <th></th>\n",
       "      <th></th>\n",
       "      <th></th>\n",
       "      <th></th>\n",
       "      <th></th>\n",
       "      <th></th>\n",
       "      <th></th>\n",
       "      <th></th>\n",
       "      <th></th>\n",
       "      <th></th>\n",
       "      <th></th>\n",
       "    </tr>\n",
       "  </thead>\n",
       "  <tbody>\n",
       "    <tr>\n",
       "      <th>1</th>\n",
       "      <td>3.5</td>\n",
       "      <td>9.0</td>\n",
       "      <td>139.6</td>\n",
       "      <td>20.500000</td>\n",
       "      <td>0.666667</td>\n",
       "      <td>0.0</td>\n",
       "      <td>76.196667</td>\n",
       "      <td>52.563333</td>\n",
       "      <td>18.850000</td>\n",
       "      <td>99.930000</td>\n",
       "      <td>...</td>\n",
       "      <td>80.000000</td>\n",
       "      <td>145.000000</td>\n",
       "      <td>1.000000</td>\n",
       "      <td>2.333333</td>\n",
       "      <td>2.666667</td>\n",
       "      <td>1.000000</td>\n",
       "      <td>0.6</td>\n",
       "      <td>0.0</td>\n",
       "      <td>1.666667</td>\n",
       "      <td>381.600000</td>\n",
       "    </tr>\n",
       "    <tr>\n",
       "      <th>2</th>\n",
       "      <td>3.5</td>\n",
       "      <td>6.0</td>\n",
       "      <td>130.5</td>\n",
       "      <td>27.800000</td>\n",
       "      <td>13.000000</td>\n",
       "      <td>0.0</td>\n",
       "      <td>379.652000</td>\n",
       "      <td>396.690000</td>\n",
       "      <td>4.813333</td>\n",
       "      <td>286.723333</td>\n",
       "      <td>...</td>\n",
       "      <td>61.333333</td>\n",
       "      <td>109.200000</td>\n",
       "      <td>0.600000</td>\n",
       "      <td>3.166667</td>\n",
       "      <td>3.333333</td>\n",
       "      <td>1.333333</td>\n",
       "      <td>0.0</td>\n",
       "      <td>0.0</td>\n",
       "      <td>2.000000</td>\n",
       "      <td>822.600000</td>\n",
       "    </tr>\n",
       "    <tr>\n",
       "      <th>3</th>\n",
       "      <td>3.5</td>\n",
       "      <td>5.0</td>\n",
       "      <td>37.5</td>\n",
       "      <td>29.333333</td>\n",
       "      <td>4.500000</td>\n",
       "      <td>0.0</td>\n",
       "      <td>232.102500</td>\n",
       "      <td>297.790000</td>\n",
       "      <td>2.091667</td>\n",
       "      <td>712.465000</td>\n",
       "      <td>...</td>\n",
       "      <td>47.833333</td>\n",
       "      <td>111.200000</td>\n",
       "      <td>0.000000</td>\n",
       "      <td>0.000000</td>\n",
       "      <td>0.166667</td>\n",
       "      <td>0.000000</td>\n",
       "      <td>1.0</td>\n",
       "      <td>0.0</td>\n",
       "      <td>1.600000</td>\n",
       "      <td>1356.800000</td>\n",
       "    </tr>\n",
       "    <tr>\n",
       "      <th>4</th>\n",
       "      <td>3.5</td>\n",
       "      <td>5.0</td>\n",
       "      <td>136.5</td>\n",
       "      <td>28.750000</td>\n",
       "      <td>23.000000</td>\n",
       "      <td>0.0</td>\n",
       "      <td>576.658333</td>\n",
       "      <td>574.918000</td>\n",
       "      <td>5.080000</td>\n",
       "      <td>641.056667</td>\n",
       "      <td>...</td>\n",
       "      <td>65.800000</td>\n",
       "      <td>133.833333</td>\n",
       "      <td>1.166667</td>\n",
       "      <td>1.166667</td>\n",
       "      <td>3.166667</td>\n",
       "      <td>0.000000</td>\n",
       "      <td>2.0</td>\n",
       "      <td>0.0</td>\n",
       "      <td>1.166667</td>\n",
       "      <td>4642.400000</td>\n",
       "    </tr>\n",
       "    <tr>\n",
       "      <th>5</th>\n",
       "      <td>3.5</td>\n",
       "      <td>20.0</td>\n",
       "      <td>16.5</td>\n",
       "      <td>23.333333</td>\n",
       "      <td>0.000000</td>\n",
       "      <td>1.0</td>\n",
       "      <td>200.673333</td>\n",
       "      <td>67.523333</td>\n",
       "      <td>55.588000</td>\n",
       "      <td>170.705000</td>\n",
       "      <td>...</td>\n",
       "      <td>29.400000</td>\n",
       "      <td>51.600000</td>\n",
       "      <td>0.250000</td>\n",
       "      <td>0.166667</td>\n",
       "      <td>0.200000</td>\n",
       "      <td>2.000000</td>\n",
       "      <td>0.0</td>\n",
       "      <td>0.0</td>\n",
       "      <td>1.000000</td>\n",
       "      <td>169.833333</td>\n",
       "    </tr>\n",
       "  </tbody>\n",
       "</table>\n",
       "<p>5 rows × 47 columns</p>\n",
       "</div>"
      ],
      "text/plain": [
       "    MONTH_NUM_FROM_EVENT    F1     F2         F3         F4   F5          F6  \\\n",
       "ID                                                                             \n",
       "1                    3.5   9.0  139.6  20.500000   0.666667  0.0   76.196667   \n",
       "2                    3.5   6.0  130.5  27.800000  13.000000  0.0  379.652000   \n",
       "3                    3.5   5.0   37.5  29.333333   4.500000  0.0  232.102500   \n",
       "4                    3.5   5.0  136.5  28.750000  23.000000  0.0  576.658333   \n",
       "5                    3.5  20.0   16.5  23.333333   0.000000  1.0  200.673333   \n",
       "\n",
       "            F7         F8          F9     ...             F38         F39  \\\n",
       "ID                                        ...                               \n",
       "1    52.563333  18.850000   99.930000     ...       80.000000  145.000000   \n",
       "2   396.690000   4.813333  286.723333     ...       61.333333  109.200000   \n",
       "3   297.790000   2.091667  712.465000     ...       47.833333  111.200000   \n",
       "4   574.918000   5.080000  641.056667     ...       65.800000  133.833333   \n",
       "5    67.523333  55.588000  170.705000     ...       29.400000   51.600000   \n",
       "\n",
       "         F40       F41       F42       F43  F44  F45       F46          F47  \n",
       "ID                                                                           \n",
       "1   1.000000  2.333333  2.666667  1.000000  0.6  0.0  1.666667   381.600000  \n",
       "2   0.600000  3.166667  3.333333  1.333333  0.0  0.0  2.000000   822.600000  \n",
       "3   0.000000  0.000000  0.166667  0.000000  1.0  0.0  1.600000  1356.800000  \n",
       "4   1.166667  1.166667  3.166667  0.000000  2.0  0.0  1.166667  4642.400000  \n",
       "5   0.250000  0.166667  0.200000  2.000000  0.0  0.0  1.000000   169.833333  \n",
       "\n",
       "[5 rows x 47 columns]"
      ]
     },
     "execution_count": 22,
     "metadata": {},
     "output_type": "execute_result"
    }
   ],
   "source": [
    "data.head()"
   ]
  },
  {
   "cell_type": "code",
   "execution_count": 23,
   "metadata": {},
   "outputs": [
    {
     "name": "stdout",
     "output_type": "stream",
     "text": [
      "value 10.0 was found 2230 times\n",
      "value 4.0 was found 1537 times\n",
      "value 13.0 was found 1310 times\n",
      "value 15.0 was found 1010 times\n",
      "value 2.0 was found 883 times\n",
      "value 6.0 was found 850 times\n",
      "value 22.0 was found 722 times\n",
      "value 20.0 was found 706 times\n",
      "value 9.0 was found 630 times\n",
      "value 8.0 was found 590 times\n",
      "value 17.0 was found 581 times\n",
      "value 23.0 was found 573 times\n",
      "value 16.0 was found 481 times\n",
      "value 19.0 was found 479 times\n",
      "value 14.0 was found 454 times\n",
      "value 5.0 was found 430 times\n",
      "value 7.0 was found 414 times\n",
      "value 11.0 was found 400 times\n",
      "value 25.0 was found 380 times\n",
      "value 18.0 was found 380 times\n",
      "value 3.0 was found 363 times\n",
      "value 21.0 was found 283 times\n",
      "value 24.0 was found 214 times\n",
      "value 12.0 was found 114 times\n",
      "value 8.666666666666666 was found 41 times\n",
      "value 7.333333333333333 was found 29 times\n",
      "value 12.5 was found 27 times\n",
      "value 18.666666666666668 was found 27 times\n",
      "value 7.5 was found 22 times\n",
      "value 9.333333333333334 was found 21 times\n",
      "value 6.666666666666667 was found 21 times\n",
      "value 14.333333333333334 was found 21 times\n",
      "value 4.666666666666667 was found 19 times\n",
      "value 3.3333333333333335 was found 19 times\n",
      "value 14.666666666666666 was found 19 times\n",
      "value 5.333333333333333 was found 17 times\n",
      "value 21.5 was found 17 times\n",
      "value 11.333333333333334 was found 16 times\n",
      "value 16.666666666666668 was found 15 times\n",
      "value 9.666666666666666 was found 15 times\n",
      "value 12.166666666666666 was found 15 times\n",
      "value 13.5 was found 15 times\n",
      "value 18.333333333333332 was found 14 times\n",
      "value -1.0 was found 14 times\n",
      "value 9.166666666666666 was found 14 times\n",
      "value 12.666666666666666 was found 14 times\n",
      "value 12.333333333333334 was found 14 times\n",
      "value 19.333333333333332 was found 13 times\n",
      "value 15.333333333333334 was found 13 times\n",
      "value 4.5 was found 13 times\n",
      "value 14.5 was found 13 times\n",
      "value 11.5 was found 13 times\n",
      "value 8.5 was found 13 times\n",
      "value 17.5 was found 13 times\n",
      "value 9.833333333333334 was found 12 times\n",
      "value 5.5 was found 11 times\n",
      "value 11.666666666666666 was found 11 times\n",
      "value 15.666666666666666 was found 11 times\n",
      "value 8.333333333333334 was found 10 times\n",
      "value 15.166666666666666 was found 10 times\n",
      "value 20.333333333333332 was found 10 times\n",
      "value 22.5 was found 10 times\n",
      "value 20.833333333333332 was found 10 times\n",
      "value 17.333333333333332 was found 10 times\n",
      "value 10.666666666666666 was found 10 times\n",
      "value 9.5 was found 9 times\n",
      "value 5.666666666666667 was found 9 times\n",
      "value 16.5 was found 9 times\n",
      "value 7.666666666666667 was found 9 times\n",
      "value 10.166666666666666 was found 9 times\n",
      "value 4.166666666666667 was found 9 times\n",
      "value 14.166666666666666 was found 9 times\n",
      "value 13.666666666666666 was found 9 times\n",
      "value 5.833333333333333 was found 9 times\n",
      "value 6.833333333333333 was found 8 times\n",
      "value 15.833333333333334 was found 8 times\n",
      "value 10.8 was found 8 times\n",
      "value 10.5 was found 8 times\n",
      "value 10.833333333333334 was found 8 times\n",
      "value 17.666666666666668 was found 7 times\n",
      "value 15.6 was found 7 times\n",
      "value 6.8 was found 7 times\n",
      "value 14.8 was found 7 times\n",
      "value 7.4 was found 7 times\n",
      "value 5.2 was found 7 times\n",
      "value 16.333333333333332 was found 7 times\n",
      "value 6.333333333333333 was found 7 times\n",
      "value 15.5 was found 7 times\n",
      "value 13.333333333333334 was found 6 times\n",
      "value 8.833333333333334 was found 6 times\n",
      "value 12.2 was found 6 times\n",
      "value 20.5 was found 6 times\n",
      "value 15.4 was found 6 times\n",
      "value 11.833333333333334 was found 6 times\n",
      "value 18.8 was found 6 times\n",
      "value 9.6 was found 6 times\n",
      "value 8.2 was found 6 times\n",
      "value 8.8 was found 6 times\n",
      "value 11.166666666666666 was found 6 times\n",
      "value 2.6666666666666665 was found 6 times\n",
      "value 19.5 was found 5 times\n",
      "value 19.666666666666668 was found 5 times\n",
      "value 11.8 was found 5 times\n",
      "value 9.2 was found 5 times\n",
      "value 11.2 was found 5 times\n",
      "value 16.166666666666668 was found 5 times\n",
      "value 13.6 was found 5 times\n",
      "value 11.4 was found 5 times\n",
      "value 10.333333333333334 was found 4 times\n",
      "value 18.833333333333332 was found 4 times\n",
      "value 12.4 was found 4 times\n",
      "value 9.4 was found 4 times\n",
      "value 15.8 was found 4 times\n",
      "value 19.6 was found 4 times\n",
      "value 22.333333333333332 was found 4 times\n",
      "value 12.6 was found 4 times\n",
      "value 3.6 was found 4 times\n",
      "value 4.833333333333333 was found 4 times\n",
      "value 13.833333333333334 was found 4 times\n",
      "value 18.166666666666668 was found 4 times\n",
      "value 14.2 was found 4 times\n",
      "value 5.166666666666667 was found 3 times\n",
      "value 7.2 was found 3 times\n",
      "value 21.333333333333332 was found 3 times\n",
      "value 21.666666666666668 was found 3 times\n",
      "value 18.5 was found 3 times\n",
      "value 14.833333333333334 was found 3 times\n",
      "value 16.833333333333332 was found 3 times\n",
      "value 8.4 was found 3 times\n",
      "value 22.666666666666668 was found 3 times\n",
      "value 17.2 was found 3 times\n",
      "value 19.166666666666668 was found 3 times\n",
      "value 10.2 was found 3 times\n",
      "value 14.6 was found 3 times\n",
      "value 4.2 was found 3 times\n",
      "value 5.6 was found 3 times\n",
      "value 21.166666666666668 was found 3 times\n",
      "value 6.5 was found 3 times\n",
      "value 12.8 was found 3 times\n",
      "value 4.333333333333333 was found 3 times\n",
      "value 23.666666666666668 was found 3 times\n",
      "value 19.2 was found 3 times\n",
      "value 23.833333333333332 was found 3 times\n",
      "value 21.4 was found 3 times\n",
      "value 15.2 was found 3 times\n",
      "value 11.6 was found 3 times\n",
      "value 16.4 was found 3 times\n",
      "value 4.4 was found 3 times\n",
      "value 10.6 was found 3 times\n",
      "value 5.8 was found 3 times\n",
      "value 7.833333333333333 was found 3 times\n",
      "value 6.166666666666667 was found 3 times\n",
      "value 3.8333333333333335 was found 2 times\n",
      "value 3.6666666666666665 was found 2 times\n",
      "value 9.8 was found 2 times\n",
      "value 19.833333333333332 was found 2 times\n",
      "value 13.25 was found 2 times\n",
      "value 1.0 was found 2 times\n",
      "value 20.166666666666668 was found 2 times\n",
      "value 2.3333333333333335 was found 2 times\n",
      "value 18.2 was found 2 times\n",
      "value 17.4 was found 2 times\n",
      "value 22.166666666666668 was found 2 times\n",
      "value 10.4 was found 2 times\n",
      "value 23.333333333333332 was found 2 times\n",
      "value 23.5 was found 2 times\n",
      "value 20.8 was found 2 times\n",
      "value 7.6 was found 2 times\n",
      "value 23.166666666666668 was found 2 times\n",
      "value 24.166666666666668 was found 2 times\n",
      "value 20.666666666666668 was found 2 times\n",
      "value 13.166666666666666 was found 2 times\n",
      "value 13.2 was found 2 times\n",
      "value 20.4 was found 2 times\n",
      "value 7.166666666666667 was found 2 times\n",
      "value 2.8 was found 2 times\n",
      "value 22.833333333333332 was found 2 times\n",
      "value 21.25 was found 2 times\n",
      "value 17.8 was found 2 times\n",
      "value 6.4 was found 2 times\n",
      "value 13.4 was found 2 times\n",
      "value 8.6 was found 2 times\n",
      "value 20.6 was found 2 times\n",
      "value 1.5 was found 1 times\n",
      "value 10.75 was found 1 times\n",
      "value 12.833333333333334 was found 1 times\n",
      "value 3.5 was found 1 times\n",
      "value 2.5 was found 1 times\n",
      "value 7.8 was found 1 times\n",
      "value 14.75 was found 1 times\n",
      "value 5.4 was found 1 times\n",
      "value 23.6 was found 1 times\n",
      "value 4.8 was found 1 times\n",
      "value 17.166666666666668 was found 1 times\n",
      "value 20.2 was found 1 times\n",
      "value 21.833333333333332 was found 1 times\n",
      "value 6.6 was found 1 times\n",
      "value 21.2 was found 1 times\n",
      "value 13.75 was found 1 times\n",
      "value 8.75 was found 1 times\n",
      "value 15.25 was found 1 times\n",
      "value 2.1666666666666665 was found 1 times\n",
      "value 2.4 was found 1 times\n",
      "value 22.8 was found 1 times\n",
      "value 16.6 was found 1 times\n",
      "value 16.75 was found 1 times\n",
      "value 23.2 was found 1 times\n",
      "value 19.4 was found 1 times\n",
      "value 18.4 was found 1 times\n"
     ]
    }
   ],
   "source": [
    "for val, cnt in data.F1.value_counts().iteritems():\n",
    "    print ('value', val, 'was found', cnt, 'times') #-1 is special value?"
   ]
  },
  {
   "cell_type": "code",
   "execution_count": 24,
   "metadata": {},
   "outputs": [],
   "source": [
    "#deal with missings using average:\n",
    "#columns_avg = data.mean(axis=0)"
   ]
  },
  {
   "cell_type": "code",
   "execution_count": 25,
   "metadata": {},
   "outputs": [],
   "source": [
    "data = data.apply(lambda x: x.fillna(x.mean()),axis=0)"
   ]
  },
  {
   "cell_type": "code",
   "execution_count": 26,
   "metadata": {},
   "outputs": [],
   "source": [
    "data = pd.merge(data, train, how='left', on=['ID']) "
   ]
  },
  {
   "cell_type": "code",
   "execution_count": 27,
   "metadata": {},
   "outputs": [],
   "source": [
    "#data[\"TARGET\"][0] #nan"
   ]
  },
  {
   "cell_type": "code",
   "execution_count": 28,
   "metadata": {},
   "outputs": [],
   "source": [
    "data[\"ROLE\"] = \"test\""
   ]
  },
  {
   "cell_type": "code",
   "execution_count": 29,
   "metadata": {},
   "outputs": [],
   "source": [
    "data.loc[data['TARGET'] == 0, \"ROLE\"] = \"train\""
   ]
  },
  {
   "cell_type": "code",
   "execution_count": 30,
   "metadata": {},
   "outputs": [],
   "source": [
    "data.loc[data['TARGET'] == 1, \"ROLE\"] = \"train\""
   ]
  },
  {
   "cell_type": "code",
   "execution_count": 31,
   "metadata": {},
   "outputs": [],
   "source": [
    "#i = 0\n",
    "#for item in data['TARGET']:\n",
    "#    if np.isnan(item):\n",
    "#        data[\"ROLE\"][i] = \"test\"\n",
    "#    else:\n",
    "#        data[\"ROLE\"][i] = \"train\"\n",
    "#    i = i+1"
   ]
  },
  {
   "cell_type": "code",
   "execution_count": 32,
   "metadata": {},
   "outputs": [],
   "source": [
    "datatr = data[data[\"ROLE\"] == \"train\"]"
   ]
  },
  {
   "cell_type": "code",
   "execution_count": 33,
   "metadata": {},
   "outputs": [],
   "source": [
    "#np.isnan(data[\"F23\"]) #TRUE\n",
    "#np.isnan(1)#FALSE\n",
    "#np.isnan(np.NaN)#TRUE"
   ]
  },
  {
   "cell_type": "code",
   "execution_count": 34,
   "metadata": {},
   "outputs": [
    {
     "data": {
      "text/plain": [
       "(12890, 50)"
      ]
     },
     "execution_count": 34,
     "metadata": {},
     "output_type": "execute_result"
    }
   ],
   "source": [
    "datatr.shape"
   ]
  },
  {
   "cell_type": "code",
   "execution_count": 35,
   "metadata": {},
   "outputs": [],
   "source": [
    "datate = data[data[\"ROLE\"] == \"test\"]"
   ]
  },
  {
   "cell_type": "code",
   "execution_count": 36,
   "metadata": {},
   "outputs": [
    {
     "data": {
      "text/plain": [
       "(4305, 50)"
      ]
     },
     "execution_count": 36,
     "metadata": {},
     "output_type": "execute_result"
    }
   ],
   "source": [
    "datate.shape"
   ]
  },
  {
   "cell_type": "code",
   "execution_count": 37,
   "metadata": {},
   "outputs": [
    {
     "data": {
      "text/html": [
       "<div>\n",
       "<style scoped>\n",
       "    .dataframe tbody tr th:only-of-type {\n",
       "        vertical-align: middle;\n",
       "    }\n",
       "\n",
       "    .dataframe tbody tr th {\n",
       "        vertical-align: top;\n",
       "    }\n",
       "\n",
       "    .dataframe thead th {\n",
       "        text-align: right;\n",
       "    }\n",
       "</style>\n",
       "<table border=\"1\" class=\"dataframe\">\n",
       "  <thead>\n",
       "    <tr style=\"text-align: right;\">\n",
       "      <th></th>\n",
       "      <th>ID</th>\n",
       "      <th>MONTH_NUM_FROM_EVENT</th>\n",
       "      <th>F1</th>\n",
       "      <th>F2</th>\n",
       "      <th>F3</th>\n",
       "      <th>F4</th>\n",
       "      <th>F5</th>\n",
       "      <th>F6</th>\n",
       "      <th>F7</th>\n",
       "      <th>F8</th>\n",
       "      <th>...</th>\n",
       "      <th>F40</th>\n",
       "      <th>F41</th>\n",
       "      <th>F42</th>\n",
       "      <th>F43</th>\n",
       "      <th>F44</th>\n",
       "      <th>F45</th>\n",
       "      <th>F46</th>\n",
       "      <th>F47</th>\n",
       "      <th>TARGET</th>\n",
       "      <th>ROLE</th>\n",
       "    </tr>\n",
       "  </thead>\n",
       "  <tbody>\n",
       "    <tr>\n",
       "      <th>1</th>\n",
       "      <td>2</td>\n",
       "      <td>3.5</td>\n",
       "      <td>6.0</td>\n",
       "      <td>130.5</td>\n",
       "      <td>27.800000</td>\n",
       "      <td>13.000000</td>\n",
       "      <td>0.0</td>\n",
       "      <td>379.652000</td>\n",
       "      <td>396.690000</td>\n",
       "      <td>4.813333</td>\n",
       "      <td>...</td>\n",
       "      <td>0.600000</td>\n",
       "      <td>3.166667</td>\n",
       "      <td>3.333333</td>\n",
       "      <td>1.333333</td>\n",
       "      <td>0.0</td>\n",
       "      <td>0.0</td>\n",
       "      <td>2.000000</td>\n",
       "      <td>822.600000</td>\n",
       "      <td>0.0</td>\n",
       "      <td>train</td>\n",
       "    </tr>\n",
       "    <tr>\n",
       "      <th>3</th>\n",
       "      <td>4</td>\n",
       "      <td>3.5</td>\n",
       "      <td>5.0</td>\n",
       "      <td>136.5</td>\n",
       "      <td>28.750000</td>\n",
       "      <td>23.000000</td>\n",
       "      <td>0.0</td>\n",
       "      <td>576.658333</td>\n",
       "      <td>574.918000</td>\n",
       "      <td>5.080000</td>\n",
       "      <td>...</td>\n",
       "      <td>1.166667</td>\n",
       "      <td>1.166667</td>\n",
       "      <td>3.166667</td>\n",
       "      <td>0.000000</td>\n",
       "      <td>2.0</td>\n",
       "      <td>0.0</td>\n",
       "      <td>1.166667</td>\n",
       "      <td>4642.400000</td>\n",
       "      <td>0.0</td>\n",
       "      <td>train</td>\n",
       "    </tr>\n",
       "    <tr>\n",
       "      <th>4</th>\n",
       "      <td>5</td>\n",
       "      <td>3.5</td>\n",
       "      <td>20.0</td>\n",
       "      <td>16.5</td>\n",
       "      <td>23.333333</td>\n",
       "      <td>0.000000</td>\n",
       "      <td>1.0</td>\n",
       "      <td>200.673333</td>\n",
       "      <td>67.523333</td>\n",
       "      <td>55.588000</td>\n",
       "      <td>...</td>\n",
       "      <td>0.250000</td>\n",
       "      <td>0.166667</td>\n",
       "      <td>0.200000</td>\n",
       "      <td>2.000000</td>\n",
       "      <td>0.0</td>\n",
       "      <td>0.0</td>\n",
       "      <td>1.000000</td>\n",
       "      <td>169.833333</td>\n",
       "      <td>0.0</td>\n",
       "      <td>train</td>\n",
       "    </tr>\n",
       "    <tr>\n",
       "      <th>7</th>\n",
       "      <td>8</td>\n",
       "      <td>3.5</td>\n",
       "      <td>21.0</td>\n",
       "      <td>131.6</td>\n",
       "      <td>27.666667</td>\n",
       "      <td>5.833333</td>\n",
       "      <td>0.6</td>\n",
       "      <td>442.373333</td>\n",
       "      <td>416.420000</td>\n",
       "      <td>8.455000</td>\n",
       "      <td>...</td>\n",
       "      <td>1.250000</td>\n",
       "      <td>1.250000</td>\n",
       "      <td>3.750000</td>\n",
       "      <td>1.000000</td>\n",
       "      <td>0.0</td>\n",
       "      <td>0.0</td>\n",
       "      <td>1.000000</td>\n",
       "      <td>657.500000</td>\n",
       "      <td>0.0</td>\n",
       "      <td>train</td>\n",
       "    </tr>\n",
       "    <tr>\n",
       "      <th>8</th>\n",
       "      <td>9</td>\n",
       "      <td>3.5</td>\n",
       "      <td>20.0</td>\n",
       "      <td>6.5</td>\n",
       "      <td>30.000000</td>\n",
       "      <td>26.333333</td>\n",
       "      <td>0.0</td>\n",
       "      <td>972.756667</td>\n",
       "      <td>630.800000</td>\n",
       "      <td>340.190000</td>\n",
       "      <td>...</td>\n",
       "      <td>0.333333</td>\n",
       "      <td>2.600000</td>\n",
       "      <td>4.166667</td>\n",
       "      <td>0.000000</td>\n",
       "      <td>1.0</td>\n",
       "      <td>1.0</td>\n",
       "      <td>1.833333</td>\n",
       "      <td>36342.333333</td>\n",
       "      <td>0.0</td>\n",
       "      <td>train</td>\n",
       "    </tr>\n",
       "    <tr>\n",
       "      <th>9</th>\n",
       "      <td>10</td>\n",
       "      <td>3.5</td>\n",
       "      <td>17.0</td>\n",
       "      <td>17.0</td>\n",
       "      <td>26.833333</td>\n",
       "      <td>0.000000</td>\n",
       "      <td>0.0</td>\n",
       "      <td>181.643333</td>\n",
       "      <td>180.406667</td>\n",
       "      <td>0.858333</td>\n",
       "      <td>...</td>\n",
       "      <td>0.333333</td>\n",
       "      <td>1.000000</td>\n",
       "      <td>3.666667</td>\n",
       "      <td>2.000000</td>\n",
       "      <td>0.0</td>\n",
       "      <td>0.0</td>\n",
       "      <td>1.000000</td>\n",
       "      <td>211.333333</td>\n",
       "      <td>0.0</td>\n",
       "      <td>train</td>\n",
       "    </tr>\n",
       "    <tr>\n",
       "      <th>10</th>\n",
       "      <td>11</td>\n",
       "      <td>3.5</td>\n",
       "      <td>4.0</td>\n",
       "      <td>120.5</td>\n",
       "      <td>28.666667</td>\n",
       "      <td>0.000000</td>\n",
       "      <td>0.0</td>\n",
       "      <td>262.760000</td>\n",
       "      <td>262.561667</td>\n",
       "      <td>0.898333</td>\n",
       "      <td>...</td>\n",
       "      <td>0.000000</td>\n",
       "      <td>0.166667</td>\n",
       "      <td>0.166667</td>\n",
       "      <td>1.000000</td>\n",
       "      <td>0.0</td>\n",
       "      <td>0.0</td>\n",
       "      <td>1.000000</td>\n",
       "      <td>555.333333</td>\n",
       "      <td>0.0</td>\n",
       "      <td>train</td>\n",
       "    </tr>\n",
       "    <tr>\n",
       "      <th>12</th>\n",
       "      <td>13</td>\n",
       "      <td>3.5</td>\n",
       "      <td>5.0</td>\n",
       "      <td>6.0</td>\n",
       "      <td>29.000000</td>\n",
       "      <td>30.333333</td>\n",
       "      <td>0.0</td>\n",
       "      <td>940.075000</td>\n",
       "      <td>903.673333</td>\n",
       "      <td>35.181667</td>\n",
       "      <td>...</td>\n",
       "      <td>3.333333</td>\n",
       "      <td>3.833333</td>\n",
       "      <td>4.400000</td>\n",
       "      <td>1.000000</td>\n",
       "      <td>0.0</td>\n",
       "      <td>0.0</td>\n",
       "      <td>1.000000</td>\n",
       "      <td>2974.333333</td>\n",
       "      <td>0.0</td>\n",
       "      <td>train</td>\n",
       "    </tr>\n",
       "    <tr>\n",
       "      <th>13</th>\n",
       "      <td>14</td>\n",
       "      <td>3.5</td>\n",
       "      <td>4.0</td>\n",
       "      <td>83.5</td>\n",
       "      <td>28.000000</td>\n",
       "      <td>0.000000</td>\n",
       "      <td>0.0</td>\n",
       "      <td>476.875000</td>\n",
       "      <td>408.890000</td>\n",
       "      <td>6.432000</td>\n",
       "      <td>...</td>\n",
       "      <td>0.000000</td>\n",
       "      <td>1.500000</td>\n",
       "      <td>4.750000</td>\n",
       "      <td>2.000000</td>\n",
       "      <td>0.0</td>\n",
       "      <td>0.0</td>\n",
       "      <td>1.000000</td>\n",
       "      <td>181.250000</td>\n",
       "      <td>0.0</td>\n",
       "      <td>train</td>\n",
       "    </tr>\n",
       "    <tr>\n",
       "      <th>14</th>\n",
       "      <td>15</td>\n",
       "      <td>3.5</td>\n",
       "      <td>20.0</td>\n",
       "      <td>61.5</td>\n",
       "      <td>30.333333</td>\n",
       "      <td>0.000000</td>\n",
       "      <td>0.0</td>\n",
       "      <td>521.170000</td>\n",
       "      <td>510.714000</td>\n",
       "      <td>6.076000</td>\n",
       "      <td>...</td>\n",
       "      <td>0.333333</td>\n",
       "      <td>0.333333</td>\n",
       "      <td>1.666667</td>\n",
       "      <td>0.000000</td>\n",
       "      <td>2.0</td>\n",
       "      <td>0.0</td>\n",
       "      <td>1.000000</td>\n",
       "      <td>473.333333</td>\n",
       "      <td>0.0</td>\n",
       "      <td>train</td>\n",
       "    </tr>\n",
       "  </tbody>\n",
       "</table>\n",
       "<p>10 rows × 50 columns</p>\n",
       "</div>"
      ],
      "text/plain": [
       "    ID  MONTH_NUM_FROM_EVENT    F1     F2         F3         F4   F5  \\\n",
       "1    2                   3.5   6.0  130.5  27.800000  13.000000  0.0   \n",
       "3    4                   3.5   5.0  136.5  28.750000  23.000000  0.0   \n",
       "4    5                   3.5  20.0   16.5  23.333333   0.000000  1.0   \n",
       "7    8                   3.5  21.0  131.6  27.666667   5.833333  0.6   \n",
       "8    9                   3.5  20.0    6.5  30.000000  26.333333  0.0   \n",
       "9   10                   3.5  17.0   17.0  26.833333   0.000000  0.0   \n",
       "10  11                   3.5   4.0  120.5  28.666667   0.000000  0.0   \n",
       "12  13                   3.5   5.0    6.0  29.000000  30.333333  0.0   \n",
       "13  14                   3.5   4.0   83.5  28.000000   0.000000  0.0   \n",
       "14  15                   3.5  20.0   61.5  30.333333   0.000000  0.0   \n",
       "\n",
       "            F6          F7          F8  ...         F40       F41       F42  \\\n",
       "1   379.652000  396.690000    4.813333  ...    0.600000  3.166667  3.333333   \n",
       "3   576.658333  574.918000    5.080000  ...    1.166667  1.166667  3.166667   \n",
       "4   200.673333   67.523333   55.588000  ...    0.250000  0.166667  0.200000   \n",
       "7   442.373333  416.420000    8.455000  ...    1.250000  1.250000  3.750000   \n",
       "8   972.756667  630.800000  340.190000  ...    0.333333  2.600000  4.166667   \n",
       "9   181.643333  180.406667    0.858333  ...    0.333333  1.000000  3.666667   \n",
       "10  262.760000  262.561667    0.898333  ...    0.000000  0.166667  0.166667   \n",
       "12  940.075000  903.673333   35.181667  ...    3.333333  3.833333  4.400000   \n",
       "13  476.875000  408.890000    6.432000  ...    0.000000  1.500000  4.750000   \n",
       "14  521.170000  510.714000    6.076000  ...    0.333333  0.333333  1.666667   \n",
       "\n",
       "         F43  F44  F45       F46           F47  TARGET   ROLE  \n",
       "1   1.333333  0.0  0.0  2.000000    822.600000     0.0  train  \n",
       "3   0.000000  2.0  0.0  1.166667   4642.400000     0.0  train  \n",
       "4   2.000000  0.0  0.0  1.000000    169.833333     0.0  train  \n",
       "7   1.000000  0.0  0.0  1.000000    657.500000     0.0  train  \n",
       "8   0.000000  1.0  1.0  1.833333  36342.333333     0.0  train  \n",
       "9   2.000000  0.0  0.0  1.000000    211.333333     0.0  train  \n",
       "10  1.000000  0.0  0.0  1.000000    555.333333     0.0  train  \n",
       "12  1.000000  0.0  0.0  1.000000   2974.333333     0.0  train  \n",
       "13  2.000000  0.0  0.0  1.000000    181.250000     0.0  train  \n",
       "14  0.000000  2.0  0.0  1.000000    473.333333     0.0  train  \n",
       "\n",
       "[10 rows x 50 columns]"
      ]
     },
     "execution_count": 37,
     "metadata": {},
     "output_type": "execute_result"
    }
   ],
   "source": [
    "datatr.head(10)"
   ]
  },
  {
   "cell_type": "code",
   "execution_count": 38,
   "metadata": {},
   "outputs": [],
   "source": [
    "Y=datatr['TARGET']\n",
    "X=datatr.drop(datatr.columns[[0,1,24,33,34,48,49]], axis=1)"
   ]
  },
  {
   "cell_type": "code",
   "execution_count": 39,
   "metadata": {},
   "outputs": [
    {
     "data": {
      "text/html": [
       "<div>\n",
       "<style scoped>\n",
       "    .dataframe tbody tr th:only-of-type {\n",
       "        vertical-align: middle;\n",
       "    }\n",
       "\n",
       "    .dataframe tbody tr th {\n",
       "        vertical-align: top;\n",
       "    }\n",
       "\n",
       "    .dataframe thead th {\n",
       "        text-align: right;\n",
       "    }\n",
       "</style>\n",
       "<table border=\"1\" class=\"dataframe\">\n",
       "  <thead>\n",
       "    <tr style=\"text-align: right;\">\n",
       "      <th></th>\n",
       "      <th>F1</th>\n",
       "      <th>F2</th>\n",
       "      <th>F3</th>\n",
       "      <th>F4</th>\n",
       "      <th>F5</th>\n",
       "      <th>F6</th>\n",
       "      <th>F7</th>\n",
       "      <th>F8</th>\n",
       "      <th>F9</th>\n",
       "      <th>F10</th>\n",
       "      <th>...</th>\n",
       "      <th>F38</th>\n",
       "      <th>F39</th>\n",
       "      <th>F40</th>\n",
       "      <th>F41</th>\n",
       "      <th>F42</th>\n",
       "      <th>F43</th>\n",
       "      <th>F44</th>\n",
       "      <th>F45</th>\n",
       "      <th>F46</th>\n",
       "      <th>F47</th>\n",
       "    </tr>\n",
       "  </thead>\n",
       "  <tbody>\n",
       "    <tr>\n",
       "      <th>1</th>\n",
       "      <td>6.0</td>\n",
       "      <td>130.5</td>\n",
       "      <td>27.800000</td>\n",
       "      <td>13.000000</td>\n",
       "      <td>0.0</td>\n",
       "      <td>379.652000</td>\n",
       "      <td>396.690000</td>\n",
       "      <td>4.813333</td>\n",
       "      <td>286.723333</td>\n",
       "      <td>282.138333</td>\n",
       "      <td>...</td>\n",
       "      <td>61.333333</td>\n",
       "      <td>109.200000</td>\n",
       "      <td>0.600000</td>\n",
       "      <td>3.166667</td>\n",
       "      <td>3.333333</td>\n",
       "      <td>1.333333</td>\n",
       "      <td>0.0</td>\n",
       "      <td>0.0</td>\n",
       "      <td>2.000000</td>\n",
       "      <td>822.600000</td>\n",
       "    </tr>\n",
       "    <tr>\n",
       "      <th>3</th>\n",
       "      <td>5.0</td>\n",
       "      <td>136.5</td>\n",
       "      <td>28.750000</td>\n",
       "      <td>23.000000</td>\n",
       "      <td>0.0</td>\n",
       "      <td>576.658333</td>\n",
       "      <td>574.918000</td>\n",
       "      <td>5.080000</td>\n",
       "      <td>641.056667</td>\n",
       "      <td>623.885000</td>\n",
       "      <td>...</td>\n",
       "      <td>65.800000</td>\n",
       "      <td>133.833333</td>\n",
       "      <td>1.166667</td>\n",
       "      <td>1.166667</td>\n",
       "      <td>3.166667</td>\n",
       "      <td>0.000000</td>\n",
       "      <td>2.0</td>\n",
       "      <td>0.0</td>\n",
       "      <td>1.166667</td>\n",
       "      <td>4642.400000</td>\n",
       "    </tr>\n",
       "    <tr>\n",
       "      <th>4</th>\n",
       "      <td>20.0</td>\n",
       "      <td>16.5</td>\n",
       "      <td>23.333333</td>\n",
       "      <td>0.000000</td>\n",
       "      <td>1.0</td>\n",
       "      <td>200.673333</td>\n",
       "      <td>67.523333</td>\n",
       "      <td>55.588000</td>\n",
       "      <td>170.705000</td>\n",
       "      <td>90.214000</td>\n",
       "      <td>...</td>\n",
       "      <td>29.400000</td>\n",
       "      <td>51.600000</td>\n",
       "      <td>0.250000</td>\n",
       "      <td>0.166667</td>\n",
       "      <td>0.200000</td>\n",
       "      <td>2.000000</td>\n",
       "      <td>0.0</td>\n",
       "      <td>0.0</td>\n",
       "      <td>1.000000</td>\n",
       "      <td>169.833333</td>\n",
       "    </tr>\n",
       "    <tr>\n",
       "      <th>7</th>\n",
       "      <td>21.0</td>\n",
       "      <td>131.6</td>\n",
       "      <td>27.666667</td>\n",
       "      <td>5.833333</td>\n",
       "      <td>0.6</td>\n",
       "      <td>442.373333</td>\n",
       "      <td>416.420000</td>\n",
       "      <td>8.455000</td>\n",
       "      <td>587.766667</td>\n",
       "      <td>496.163333</td>\n",
       "      <td>...</td>\n",
       "      <td>15.666667</td>\n",
       "      <td>121.500000</td>\n",
       "      <td>1.250000</td>\n",
       "      <td>1.250000</td>\n",
       "      <td>3.750000</td>\n",
       "      <td>1.000000</td>\n",
       "      <td>0.0</td>\n",
       "      <td>0.0</td>\n",
       "      <td>1.000000</td>\n",
       "      <td>657.500000</td>\n",
       "    </tr>\n",
       "    <tr>\n",
       "      <th>8</th>\n",
       "      <td>20.0</td>\n",
       "      <td>6.5</td>\n",
       "      <td>30.000000</td>\n",
       "      <td>26.333333</td>\n",
       "      <td>0.0</td>\n",
       "      <td>972.756667</td>\n",
       "      <td>630.800000</td>\n",
       "      <td>340.190000</td>\n",
       "      <td>450.356000</td>\n",
       "      <td>350.525000</td>\n",
       "      <td>...</td>\n",
       "      <td>191.666667</td>\n",
       "      <td>142.000000</td>\n",
       "      <td>0.333333</td>\n",
       "      <td>2.600000</td>\n",
       "      <td>4.166667</td>\n",
       "      <td>0.000000</td>\n",
       "      <td>1.0</td>\n",
       "      <td>1.0</td>\n",
       "      <td>1.833333</td>\n",
       "      <td>36342.333333</td>\n",
       "    </tr>\n",
       "  </tbody>\n",
       "</table>\n",
       "<p>5 rows × 43 columns</p>\n",
       "</div>"
      ],
      "text/plain": [
       "     F1     F2         F3         F4   F5          F6          F7          F8  \\\n",
       "1   6.0  130.5  27.800000  13.000000  0.0  379.652000  396.690000    4.813333   \n",
       "3   5.0  136.5  28.750000  23.000000  0.0  576.658333  574.918000    5.080000   \n",
       "4  20.0   16.5  23.333333   0.000000  1.0  200.673333   67.523333   55.588000   \n",
       "7  21.0  131.6  27.666667   5.833333  0.6  442.373333  416.420000    8.455000   \n",
       "8  20.0    6.5  30.000000  26.333333  0.0  972.756667  630.800000  340.190000   \n",
       "\n",
       "           F9         F10      ...              F38         F39       F40  \\\n",
       "1  286.723333  282.138333      ...        61.333333  109.200000  0.600000   \n",
       "3  641.056667  623.885000      ...        65.800000  133.833333  1.166667   \n",
       "4  170.705000   90.214000      ...        29.400000   51.600000  0.250000   \n",
       "7  587.766667  496.163333      ...        15.666667  121.500000  1.250000   \n",
       "8  450.356000  350.525000      ...       191.666667  142.000000  0.333333   \n",
       "\n",
       "        F41       F42       F43  F44  F45       F46           F47  \n",
       "1  3.166667  3.333333  1.333333  0.0  0.0  2.000000    822.600000  \n",
       "3  1.166667  3.166667  0.000000  2.0  0.0  1.166667   4642.400000  \n",
       "4  0.166667  0.200000  2.000000  0.0  0.0  1.000000    169.833333  \n",
       "7  1.250000  3.750000  1.000000  0.0  0.0  1.000000    657.500000  \n",
       "8  2.600000  4.166667  0.000000  1.0  1.0  1.833333  36342.333333  \n",
       "\n",
       "[5 rows x 43 columns]"
      ]
     },
     "execution_count": 39,
     "metadata": {},
     "output_type": "execute_result"
    }
   ],
   "source": [
    "X.head()"
   ]
  },
  {
   "cell_type": "code",
   "execution_count": 40,
   "metadata": {},
   "outputs": [
    {
     "name": "stdout",
     "output_type": "stream",
     "text": [
      "F1     0.0\n",
      "F2     0.0\n",
      "F3     0.0\n",
      "F4     0.0\n",
      "F5     0.0\n",
      "F6     0.0\n",
      "F7     0.0\n",
      "F8     0.0\n",
      "F9     0.0\n",
      "F10    0.0\n",
      "F11    0.0\n",
      "F12    0.0\n",
      "F13    0.0\n",
      "F14    0.0\n",
      "F15    0.0\n",
      "F16    0.0\n",
      "F17    0.0\n",
      "F18    0.0\n",
      "F19    0.0\n",
      "F20    0.0\n",
      "F21    0.0\n",
      "F22    0.0\n",
      "F24    0.0\n",
      "F26    0.0\n",
      "F27    0.0\n",
      "F28    0.0\n",
      "F29    0.0\n",
      "F30    0.0\n",
      "F31    0.0\n",
      "F32    0.0\n",
      "F35    0.0\n",
      "F36    0.0\n",
      "F37    0.0\n",
      "F38    0.0\n",
      "F39    0.0\n",
      "F40    0.0\n",
      "F41    0.0\n",
      "F42    0.0\n",
      "F43    0.0\n",
      "F44    0.0\n",
      "F45    0.0\n",
      "F46    0.0\n",
      "F47    0.0\n",
      "dtype: float64\n"
     ]
    }
   ],
   "source": [
    "print(X.isnull().sum()*100/103170)"
   ]
  },
  {
   "cell_type": "code",
   "execution_count": 41,
   "metadata": {},
   "outputs": [],
   "source": [
    "# split datatr into train and test sets\n",
    "X_train, X_test, y_train, y_test = train_test_split(X, Y, test_size=0.3, random_state=10)"
   ]
  },
  {
   "cell_type": "code",
   "execution_count": 42,
   "metadata": {},
   "outputs": [
    {
     "data": {
      "text/html": [
       "<div>\n",
       "<style scoped>\n",
       "    .dataframe tbody tr th:only-of-type {\n",
       "        vertical-align: middle;\n",
       "    }\n",
       "\n",
       "    .dataframe tbody tr th {\n",
       "        vertical-align: top;\n",
       "    }\n",
       "\n",
       "    .dataframe thead th {\n",
       "        text-align: right;\n",
       "    }\n",
       "</style>\n",
       "<table border=\"1\" class=\"dataframe\">\n",
       "  <thead>\n",
       "    <tr style=\"text-align: right;\">\n",
       "      <th></th>\n",
       "      <th>F1</th>\n",
       "      <th>F2</th>\n",
       "      <th>F3</th>\n",
       "      <th>F4</th>\n",
       "      <th>F5</th>\n",
       "      <th>F6</th>\n",
       "      <th>F7</th>\n",
       "      <th>F8</th>\n",
       "      <th>F9</th>\n",
       "      <th>F10</th>\n",
       "      <th>...</th>\n",
       "      <th>F38</th>\n",
       "      <th>F39</th>\n",
       "      <th>F40</th>\n",
       "      <th>F41</th>\n",
       "      <th>F42</th>\n",
       "      <th>F43</th>\n",
       "      <th>F44</th>\n",
       "      <th>F45</th>\n",
       "      <th>F46</th>\n",
       "      <th>F47</th>\n",
       "    </tr>\n",
       "  </thead>\n",
       "  <tbody>\n",
       "    <tr>\n",
       "      <th>count</th>\n",
       "      <td>12890.000000</td>\n",
       "      <td>12890.000000</td>\n",
       "      <td>12890.000000</td>\n",
       "      <td>12890.000000</td>\n",
       "      <td>12890.000000</td>\n",
       "      <td>12890.000000</td>\n",
       "      <td>12890.000000</td>\n",
       "      <td>12890.000000</td>\n",
       "      <td>12890.000000</td>\n",
       "      <td>12890.000000</td>\n",
       "      <td>...</td>\n",
       "      <td>12890.000000</td>\n",
       "      <td>12890.000000</td>\n",
       "      <td>12890.000000</td>\n",
       "      <td>12890.000000</td>\n",
       "      <td>12890.000000</td>\n",
       "      <td>12890.000000</td>\n",
       "      <td>12890.000000</td>\n",
       "      <td>12890.000000</td>\n",
       "      <td>12890.000000</td>\n",
       "      <td>12890.000000</td>\n",
       "    </tr>\n",
       "    <tr>\n",
       "      <th>mean</th>\n",
       "      <td>12.090949</td>\n",
       "      <td>72.834646</td>\n",
       "      <td>21.152852</td>\n",
       "      <td>7.098660</td>\n",
       "      <td>0.037755</td>\n",
       "      <td>414.238269</td>\n",
       "      <td>398.841572</td>\n",
       "      <td>10.696151</td>\n",
       "      <td>397.883633</td>\n",
       "      <td>379.302292</td>\n",
       "      <td>...</td>\n",
       "      <td>44.941661</td>\n",
       "      <td>102.546259</td>\n",
       "      <td>0.892252</td>\n",
       "      <td>1.668682</td>\n",
       "      <td>2.417325</td>\n",
       "      <td>0.726834</td>\n",
       "      <td>0.652565</td>\n",
       "      <td>0.067811</td>\n",
       "      <td>1.281760</td>\n",
       "      <td>1681.708036</td>\n",
       "    </tr>\n",
       "    <tr>\n",
       "      <th>std</th>\n",
       "      <td>6.452595</td>\n",
       "      <td>49.353028</td>\n",
       "      <td>10.350869</td>\n",
       "      <td>10.167246</td>\n",
       "      <td>0.142513</td>\n",
       "      <td>510.993880</td>\n",
       "      <td>502.641965</td>\n",
       "      <td>27.840751</td>\n",
       "      <td>427.554814</td>\n",
       "      <td>418.684976</td>\n",
       "      <td>...</td>\n",
       "      <td>71.339237</td>\n",
       "      <td>32.073705</td>\n",
       "      <td>0.995039</td>\n",
       "      <td>1.455843</td>\n",
       "      <td>1.774157</td>\n",
       "      <td>0.760498</td>\n",
       "      <td>0.629644</td>\n",
       "      <td>0.228572</td>\n",
       "      <td>0.469386</td>\n",
       "      <td>3227.857433</td>\n",
       "    </tr>\n",
       "    <tr>\n",
       "      <th>min</th>\n",
       "      <td>-1.000000</td>\n",
       "      <td>2.000000</td>\n",
       "      <td>0.000000</td>\n",
       "      <td>0.000000</td>\n",
       "      <td>0.000000</td>\n",
       "      <td>0.000000</td>\n",
       "      <td>0.000000</td>\n",
       "      <td>0.000000</td>\n",
       "      <td>0.000000</td>\n",
       "      <td>0.000000</td>\n",
       "      <td>...</td>\n",
       "      <td>1.000000</td>\n",
       "      <td>0.000000</td>\n",
       "      <td>0.000000</td>\n",
       "      <td>0.000000</td>\n",
       "      <td>0.000000</td>\n",
       "      <td>0.000000</td>\n",
       "      <td>0.000000</td>\n",
       "      <td>0.000000</td>\n",
       "      <td>1.000000</td>\n",
       "      <td>1.000000</td>\n",
       "    </tr>\n",
       "    <tr>\n",
       "      <th>25%</th>\n",
       "      <td>7.000000</td>\n",
       "      <td>30.500000</td>\n",
       "      <td>14.333333</td>\n",
       "      <td>0.000000</td>\n",
       "      <td>0.000000</td>\n",
       "      <td>54.366250</td>\n",
       "      <td>46.009250</td>\n",
       "      <td>0.323500</td>\n",
       "      <td>103.910417</td>\n",
       "      <td>91.643333</td>\n",
       "      <td>...</td>\n",
       "      <td>22.000000</td>\n",
       "      <td>88.500000</td>\n",
       "      <td>0.000000</td>\n",
       "      <td>0.500000</td>\n",
       "      <td>1.000000</td>\n",
       "      <td>0.000000</td>\n",
       "      <td>0.000000</td>\n",
       "      <td>0.000000</td>\n",
       "      <td>1.000000</td>\n",
       "      <td>304.000000</td>\n",
       "    </tr>\n",
       "    <tr>\n",
       "      <th>50%</th>\n",
       "      <td>11.000000</td>\n",
       "      <td>55.300000</td>\n",
       "      <td>26.166667</td>\n",
       "      <td>0.833333</td>\n",
       "      <td>0.000000</td>\n",
       "      <td>248.807500</td>\n",
       "      <td>232.517500</td>\n",
       "      <td>2.384167</td>\n",
       "      <td>285.485000</td>\n",
       "      <td>265.812500</td>\n",
       "      <td>...</td>\n",
       "      <td>40.500000</td>\n",
       "      <td>105.333333</td>\n",
       "      <td>0.600000</td>\n",
       "      <td>1.500000</td>\n",
       "      <td>2.200000</td>\n",
       "      <td>0.733436</td>\n",
       "      <td>0.645617</td>\n",
       "      <td>0.000000</td>\n",
       "      <td>1.166667</td>\n",
       "      <td>685.716667</td>\n",
       "    </tr>\n",
       "    <tr>\n",
       "      <th>75%</th>\n",
       "      <td>17.000000</td>\n",
       "      <td>120.500000</td>\n",
       "      <td>29.600000</td>\n",
       "      <td>12.200000</td>\n",
       "      <td>0.000000</td>\n",
       "      <td>581.932500</td>\n",
       "      <td>562.376250</td>\n",
       "      <td>9.220000</td>\n",
       "      <td>553.662083</td>\n",
       "      <td>529.508333</td>\n",
       "      <td>...</td>\n",
       "      <td>58.333333</td>\n",
       "      <td>123.166667</td>\n",
       "      <td>1.333333</td>\n",
       "      <td>2.400000</td>\n",
       "      <td>3.500000</td>\n",
       "      <td>1.000000</td>\n",
       "      <td>1.000000</td>\n",
       "      <td>0.000000</td>\n",
       "      <td>1.333333</td>\n",
       "      <td>1661.656808</td>\n",
       "    </tr>\n",
       "    <tr>\n",
       "      <th>max</th>\n",
       "      <td>25.000000</td>\n",
       "      <td>200.500000</td>\n",
       "      <td>30.800000</td>\n",
       "      <td>31.000000</td>\n",
       "      <td>1.000000</td>\n",
       "      <td>6155.760000</td>\n",
       "      <td>6153.766667</td>\n",
       "      <td>690.875000</td>\n",
       "      <td>6721.691667</td>\n",
       "      <td>6716.473333</td>\n",
       "      <td>...</td>\n",
       "      <td>7303.333333</td>\n",
       "      <td>193.333333</td>\n",
       "      <td>7.800000</td>\n",
       "      <td>9.333333</td>\n",
       "      <td>10.200000</td>\n",
       "      <td>5.000000</td>\n",
       "      <td>2.000000</td>\n",
       "      <td>1.000000</td>\n",
       "      <td>12.400000</td>\n",
       "      <td>90050.000000</td>\n",
       "    </tr>\n",
       "  </tbody>\n",
       "</table>\n",
       "<p>8 rows × 43 columns</p>\n",
       "</div>"
      ],
      "text/plain": [
       "                 F1            F2            F3            F4            F5  \\\n",
       "count  12890.000000  12890.000000  12890.000000  12890.000000  12890.000000   \n",
       "mean      12.090949     72.834646     21.152852      7.098660      0.037755   \n",
       "std        6.452595     49.353028     10.350869     10.167246      0.142513   \n",
       "min       -1.000000      2.000000      0.000000      0.000000      0.000000   \n",
       "25%        7.000000     30.500000     14.333333      0.000000      0.000000   \n",
       "50%       11.000000     55.300000     26.166667      0.833333      0.000000   \n",
       "75%       17.000000    120.500000     29.600000     12.200000      0.000000   \n",
       "max       25.000000    200.500000     30.800000     31.000000      1.000000   \n",
       "\n",
       "                 F6            F7            F8            F9           F10  \\\n",
       "count  12890.000000  12890.000000  12890.000000  12890.000000  12890.000000   \n",
       "mean     414.238269    398.841572     10.696151    397.883633    379.302292   \n",
       "std      510.993880    502.641965     27.840751    427.554814    418.684976   \n",
       "min        0.000000      0.000000      0.000000      0.000000      0.000000   \n",
       "25%       54.366250     46.009250      0.323500    103.910417     91.643333   \n",
       "50%      248.807500    232.517500      2.384167    285.485000    265.812500   \n",
       "75%      581.932500    562.376250      9.220000    553.662083    529.508333   \n",
       "max     6155.760000   6153.766667    690.875000   6721.691667   6716.473333   \n",
       "\n",
       "           ...                F38           F39           F40           F41  \\\n",
       "count      ...       12890.000000  12890.000000  12890.000000  12890.000000   \n",
       "mean       ...          44.941661    102.546259      0.892252      1.668682   \n",
       "std        ...          71.339237     32.073705      0.995039      1.455843   \n",
       "min        ...           1.000000      0.000000      0.000000      0.000000   \n",
       "25%        ...          22.000000     88.500000      0.000000      0.500000   \n",
       "50%        ...          40.500000    105.333333      0.600000      1.500000   \n",
       "75%        ...          58.333333    123.166667      1.333333      2.400000   \n",
       "max        ...        7303.333333    193.333333      7.800000      9.333333   \n",
       "\n",
       "                F42           F43           F44           F45           F46  \\\n",
       "count  12890.000000  12890.000000  12890.000000  12890.000000  12890.000000   \n",
       "mean       2.417325      0.726834      0.652565      0.067811      1.281760   \n",
       "std        1.774157      0.760498      0.629644      0.228572      0.469386   \n",
       "min        0.000000      0.000000      0.000000      0.000000      1.000000   \n",
       "25%        1.000000      0.000000      0.000000      0.000000      1.000000   \n",
       "50%        2.200000      0.733436      0.645617      0.000000      1.166667   \n",
       "75%        3.500000      1.000000      1.000000      0.000000      1.333333   \n",
       "max       10.200000      5.000000      2.000000      1.000000     12.400000   \n",
       "\n",
       "                F47  \n",
       "count  12890.000000  \n",
       "mean    1681.708036  \n",
       "std     3227.857433  \n",
       "min        1.000000  \n",
       "25%      304.000000  \n",
       "50%      685.716667  \n",
       "75%     1661.656808  \n",
       "max    90050.000000  \n",
       "\n",
       "[8 rows x 43 columns]"
      ]
     },
     "execution_count": 42,
     "metadata": {},
     "output_type": "execute_result"
    }
   ],
   "source": [
    "X.describe()"
   ]
  },
  {
   "cell_type": "code",
   "execution_count": 43,
   "metadata": {},
   "outputs": [],
   "source": [
    "#for val, cnt in X.F33.value_counts().iteritems():\n",
    "    #print ('value', val, 'was found', cnt, 'times')"
   ]
  },
  {
   "cell_type": "code",
   "execution_count": 44,
   "metadata": {},
   "outputs": [],
   "source": [
    "#df = pd.DataFrame({'mycolumn': [1,2,2,2,3,3,4]})\n",
    "#for val, cnt in df.mycolumn.value_counts().iteritems():\n",
    "   # print 'value', val, 'was found', cnt, 'times'"
   ]
  },
  {
   "cell_type": "code",
   "execution_count": 45,
   "metadata": {},
   "outputs": [
    {
     "data": {
      "text/plain": [
       "\"def plot_corr(df,size=10):\\n    '''Plot a graphical correlation matrix for a dataframe.\\n\\n    Input:\\n        df: pandas DataFrame\\n        size: vertical and horizontal size of the plot'''\\n    \\n   # %matplotlib inline\\n   # import matplotlib.pyplot as plt\\n\\n    # Compute the correlation matrix for the received dataframe\\n    corr = df.corr()\\n    \\n    # Plot the correlation matrix\\n    fig, ax = plt.subplots(figsize=(size, size))\\n    cax = ax.matshow(corr, cmap='RdYlGn')\\n    plt.xticks(range(len(corr.columns)), corr.columns, rotation=90);\\n    plt.yticks(range(len(corr.columns)), corr.columns);\\n    \\n    # Add the colorbar legend\\n    cbar = fig.colorbar(cax, ticks=[-1, 0, 1], aspect=40, shrink=.8)\""
      ]
     },
     "execution_count": 45,
     "metadata": {},
     "output_type": "execute_result"
    }
   ],
   "source": [
    "\"\"\"def plot_corr(df,size=10):\n",
    "    '''Plot a graphical correlation matrix for a dataframe.\n",
    "\n",
    "    Input:\n",
    "        df: pandas DataFrame\n",
    "        size: vertical and horizontal size of the plot'''\n",
    "    \n",
    "   # %matplotlib inline\n",
    "   # import matplotlib.pyplot as plt\n",
    "\n",
    "    # Compute the correlation matrix for the received dataframe\n",
    "    corr = df.corr()\n",
    "    \n",
    "    # Plot the correlation matrix\n",
    "    fig, ax = plt.subplots(figsize=(size, size))\n",
    "    cax = ax.matshow(corr, cmap='RdYlGn')\n",
    "    plt.xticks(range(len(corr.columns)), corr.columns, rotation=90);\n",
    "    plt.yticks(range(len(corr.columns)), corr.columns);\n",
    "    \n",
    "    # Add the colorbar legend\n",
    "    cbar = fig.colorbar(cax, ticks=[-1, 0, 1], aspect=40, shrink=.8)\"\"\""
   ]
  },
  {
   "cell_type": "code",
   "execution_count": 48,
   "metadata": {},
   "outputs": [],
   "source": [
    "from sklearn.linear_model import LogisticRegression"
   ]
  },
  {
   "cell_type": "code",
   "execution_count": 49,
   "metadata": {},
   "outputs": [
    {
     "name": "stdout",
     "output_type": "stream",
     "text": [
      "0.9113007499353504\n"
     ]
    }
   ],
   "source": [
    "logisticRegr = LogisticRegression()\n",
    "logisticRegr.fit(X_train, y_train)\n",
    "predictions = logisticRegr.predict(X_test)\n",
    "predictions_prob = logisticRegr.predict_proba(X_test)\n",
    "predictions_prob = predictions_prob[:,1]\n",
    "score = logisticRegr.score(X_test, y_test)\n",
    "print(score)\n",
    "from sklearn.metrics import roc_auc_score\n"
   ]
  },
  {
   "cell_type": "code",
   "execution_count": 50,
   "metadata": {},
   "outputs": [
    {
     "data": {
      "text/plain": [
       "0.7670403015414496"
      ]
     },
     "execution_count": 50,
     "metadata": {},
     "output_type": "execute_result"
    }
   ],
   "source": [
    "roc_auc_score(y_test, predictions_prob)\n"
   ]
  },
  {
   "cell_type": "code",
   "execution_count": 52,
   "metadata": {},
   "outputs": [
    {
     "data": {
      "text/plain": [
       "0.7471483944608703"
      ]
     },
     "execution_count": 52,
     "metadata": {},
     "output_type": "execute_result"
    }
   ],
   "source": [
    "pred_train = logisticRegr.predict_proba(X_train)\n",
    "pred_train = pred_train[:,1]\n",
    "roc_auc_score(y_train, pred_train)\n"
   ]
  },
  {
   "cell_type": "code",
   "execution_count": 53,
   "metadata": {},
   "outputs": [
    {
     "data": {
      "text/plain": [
       "8.0"
      ]
     },
     "execution_count": 53,
     "metadata": {},
     "output_type": "execute_result"
    }
   ],
   "source": [
    "predictions.sum()"
   ]
  },
  {
   "cell_type": "code",
   "execution_count": 54,
   "metadata": {},
   "outputs": [
    {
     "data": {
      "text/plain": [
       "3867"
      ]
     },
     "execution_count": 54,
     "metadata": {},
     "output_type": "execute_result"
    }
   ],
   "source": [
    "len(predictions_prob)"
   ]
  },
  {
   "cell_type": "code",
   "execution_count": 55,
   "metadata": {},
   "outputs": [
    {
     "data": {
      "text/plain": [
       "3867"
      ]
     },
     "execution_count": 55,
     "metadata": {},
     "output_type": "execute_result"
    }
   ],
   "source": [
    "len(predictions)"
   ]
  },
  {
   "cell_type": "code",
   "execution_count": 56,
   "metadata": {},
   "outputs": [
    {
     "data": {
      "text/plain": [
       "3867"
      ]
     },
     "execution_count": 56,
     "metadata": {},
     "output_type": "execute_result"
    }
   ],
   "source": [
    "len(y_test)"
   ]
  },
  {
   "cell_type": "code",
   "execution_count": 57,
   "metadata": {},
   "outputs": [
    {
     "data": {
      "text/plain": [
       "array([1., 1., 1., 1., 1., 1., 1., 1.])"
      ]
     },
     "execution_count": 57,
     "metadata": {},
     "output_type": "execute_result"
    }
   ],
   "source": [
    "predictions[predictions>0]"
   ]
  },
  {
   "cell_type": "code",
   "execution_count": null,
   "metadata": {},
   "outputs": [],
   "source": []
  },
  {
   "cell_type": "code",
   "execution_count": 58,
   "metadata": {},
   "outputs": [],
   "source": [
    "#REPEAT REGRESSION - choose variables"
   ]
  },
  {
   "cell_type": "code",
   "execution_count": 59,
   "metadata": {},
   "outputs": [
    {
     "ename": "SyntaxError",
     "evalue": "EOL while scanning string literal (<ipython-input-59-4bbf05f99fb3>, line 12)",
     "output_type": "error",
     "traceback": [
      "\u001b[1;36m  File \u001b[1;32m\"<ipython-input-59-4bbf05f99fb3>\"\u001b[1;36m, line \u001b[1;32m12\u001b[0m\n\u001b[1;33m    \"\"\"\"\u001b[0m\n\u001b[1;37m        \n^\u001b[0m\n\u001b[1;31mSyntaxError\u001b[0m\u001b[1;31m:\u001b[0m EOL while scanning string literal\n"
     ]
    }
   ],
   "source": [
    "\"\"\"\"\n",
    "data_final_vars=data_final.columns.values.tolist()\n",
    "y=['y']\n",
    "X=[i for i in data_final_vars if i not in y]\n",
    "from sklearn.feature_selection import RFE\n",
    "from sklearn.linear_model import LogisticRegression\n",
    "logreg = LogisticRegression()\n",
    "rfe = RFE(logreg, 20)\n",
    "rfe = rfe.fit(os_data_X, os_data_y.values.ravel())\n",
    "print(rfe.support_)\n",
    "print(rfe.ranking_)\n",
    "\"\"\"\""
   ]
  },
  {
   "cell_type": "code",
   "execution_count": 60,
   "metadata": {},
   "outputs": [],
   "source": [
    "from sklearn.feature_selection import RFE"
   ]
  },
  {
   "cell_type": "code",
   "execution_count": 61,
   "metadata": {},
   "outputs": [],
   "source": [
    "logisticRegFinal = LogisticRegression()"
   ]
  },
  {
   "cell_type": "code",
   "execution_count": 62,
   "metadata": {},
   "outputs": [],
   "source": [
    "rfe = RFE(logisticRegFinal, 20)"
   ]
  },
  {
   "cell_type": "code",
   "execution_count": 63,
   "metadata": {},
   "outputs": [],
   "source": [
    "rfe = rfe.fit(X_train, y_train)"
   ]
  },
  {
   "cell_type": "code",
   "execution_count": 64,
   "metadata": {},
   "outputs": [
    {
     "name": "stdout",
     "output_type": "stream",
     "text": [
      "[False  True  True False  True False False False False False False False\n",
      " False False False False False  True  True False False False  True  True\n",
      "  True  True  True  True  True False False False  True False False  True\n",
      "  True  True  True  True  True  True False]\n",
      "[ 4  1  1  6  1 16 17 15 14 13 24  2  3  7 10 11  9  1  1  8 21 22  1  1\n",
      "  1  1  1  1  1  5 18 12  1 20 19  1  1  1  1  1  1  1 23]\n"
     ]
    }
   ],
   "source": [
    "print(rfe.support_)\n",
    "print(rfe.ranking_)"
   ]
  },
  {
   "cell_type": "code",
   "execution_count": 65,
   "metadata": {},
   "outputs": [],
   "source": [
    "col_drop = [0,3,5,6,7,8,9,10,11,12,13,14,15,16,19,20,21,29,30,31,33,34,42]"
   ]
  },
  {
   "cell_type": "code",
   "execution_count": 66,
   "metadata": {},
   "outputs": [],
   "source": [
    "X_train2 = X_train.drop(X_train.columns[col_drop], axis=1)\n",
    "X_test2 = X_test.drop(X_test.columns[col_drop], axis=1)"
   ]
  },
  {
   "cell_type": "code",
   "execution_count": null,
   "metadata": {},
   "outputs": [],
   "source": []
  },
  {
   "cell_type": "code",
   "execution_count": 67,
   "metadata": {},
   "outputs": [
    {
     "data": {
      "text/plain": [
       "(9023, 20)"
      ]
     },
     "execution_count": 67,
     "metadata": {},
     "output_type": "execute_result"
    }
   ],
   "source": [
    "X_train2.shape"
   ]
  },
  {
   "cell_type": "code",
   "execution_count": 68,
   "metadata": {},
   "outputs": [
    {
     "data": {
      "text/html": [
       "<div>\n",
       "<style scoped>\n",
       "    .dataframe tbody tr th:only-of-type {\n",
       "        vertical-align: middle;\n",
       "    }\n",
       "\n",
       "    .dataframe tbody tr th {\n",
       "        vertical-align: top;\n",
       "    }\n",
       "\n",
       "    .dataframe thead th {\n",
       "        text-align: right;\n",
       "    }\n",
       "</style>\n",
       "<table border=\"1\" class=\"dataframe\">\n",
       "  <thead>\n",
       "    <tr style=\"text-align: right;\">\n",
       "      <th></th>\n",
       "      <th>F2</th>\n",
       "      <th>F3</th>\n",
       "      <th>F5</th>\n",
       "      <th>F18</th>\n",
       "      <th>F19</th>\n",
       "      <th>F24</th>\n",
       "      <th>F26</th>\n",
       "      <th>F27</th>\n",
       "      <th>F28</th>\n",
       "      <th>F29</th>\n",
       "      <th>F30</th>\n",
       "      <th>F31</th>\n",
       "      <th>F37</th>\n",
       "      <th>F40</th>\n",
       "      <th>F41</th>\n",
       "      <th>F42</th>\n",
       "      <th>F43</th>\n",
       "      <th>F44</th>\n",
       "      <th>F45</th>\n",
       "      <th>F46</th>\n",
       "    </tr>\n",
       "  </thead>\n",
       "  <tbody>\n",
       "    <tr>\n",
       "      <th>16348</th>\n",
       "      <td>120.5</td>\n",
       "      <td>29.666667</td>\n",
       "      <td>0.0</td>\n",
       "      <td>1.095000</td>\n",
       "      <td>0.0</td>\n",
       "      <td>0.0</td>\n",
       "      <td>0.0</td>\n",
       "      <td>30.000000</td>\n",
       "      <td>30.200000</td>\n",
       "      <td>30.666667</td>\n",
       "      <td>0.000000</td>\n",
       "      <td>0.000000</td>\n",
       "      <td>2.0</td>\n",
       "      <td>0.000000</td>\n",
       "      <td>0.166667</td>\n",
       "      <td>0.500000</td>\n",
       "      <td>2.0</td>\n",
       "      <td>0.0</td>\n",
       "      <td>0.0</td>\n",
       "      <td>1.000000</td>\n",
       "    </tr>\n",
       "    <tr>\n",
       "      <th>1565</th>\n",
       "      <td>41.0</td>\n",
       "      <td>23.000000</td>\n",
       "      <td>0.0</td>\n",
       "      <td>30.916667</td>\n",
       "      <td>5.5</td>\n",
       "      <td>0.0</td>\n",
       "      <td>0.0</td>\n",
       "      <td>2.833333</td>\n",
       "      <td>17.166667</td>\n",
       "      <td>24.200000</td>\n",
       "      <td>0.400000</td>\n",
       "      <td>0.000000</td>\n",
       "      <td>3.6</td>\n",
       "      <td>0.400000</td>\n",
       "      <td>2.000000</td>\n",
       "      <td>3.250000</td>\n",
       "      <td>0.4</td>\n",
       "      <td>0.6</td>\n",
       "      <td>0.0</td>\n",
       "      <td>1.200000</td>\n",
       "    </tr>\n",
       "    <tr>\n",
       "      <th>14588</th>\n",
       "      <td>38.5</td>\n",
       "      <td>24.333333</td>\n",
       "      <td>0.0</td>\n",
       "      <td>3.906667</td>\n",
       "      <td>4.8</td>\n",
       "      <td>0.0</td>\n",
       "      <td>22.6</td>\n",
       "      <td>28.833333</td>\n",
       "      <td>28.750000</td>\n",
       "      <td>29.333333</td>\n",
       "      <td>0.000000</td>\n",
       "      <td>0.000000</td>\n",
       "      <td>2.0</td>\n",
       "      <td>1.000000</td>\n",
       "      <td>2.833333</td>\n",
       "      <td>3.000000</td>\n",
       "      <td>2.0</td>\n",
       "      <td>0.0</td>\n",
       "      <td>0.0</td>\n",
       "      <td>1.333333</td>\n",
       "    </tr>\n",
       "    <tr>\n",
       "      <th>14714</th>\n",
       "      <td>42.5</td>\n",
       "      <td>0.333333</td>\n",
       "      <td>0.0</td>\n",
       "      <td>0.000000</td>\n",
       "      <td>0.0</td>\n",
       "      <td>0.0</td>\n",
       "      <td>0.0</td>\n",
       "      <td>30.600000</td>\n",
       "      <td>30.666667</td>\n",
       "      <td>30.666667</td>\n",
       "      <td>0.000000</td>\n",
       "      <td>0.000000</td>\n",
       "      <td>1.0</td>\n",
       "      <td>1.000000</td>\n",
       "      <td>1.166667</td>\n",
       "      <td>3.166667</td>\n",
       "      <td>2.0</td>\n",
       "      <td>0.0</td>\n",
       "      <td>0.0</td>\n",
       "      <td>1.000000</td>\n",
       "    </tr>\n",
       "    <tr>\n",
       "      <th>12837</th>\n",
       "      <td>142.5</td>\n",
       "      <td>30.666667</td>\n",
       "      <td>0.0</td>\n",
       "      <td>74.541667</td>\n",
       "      <td>0.5</td>\n",
       "      <td>0.0</td>\n",
       "      <td>0.0</td>\n",
       "      <td>3.500000</td>\n",
       "      <td>3.500000</td>\n",
       "      <td>5.666667</td>\n",
       "      <td>10.333333</td>\n",
       "      <td>1.666667</td>\n",
       "      <td>3.5</td>\n",
       "      <td>0.166667</td>\n",
       "      <td>0.500000</td>\n",
       "      <td>1.166667</td>\n",
       "      <td>0.0</td>\n",
       "      <td>1.0</td>\n",
       "      <td>1.0</td>\n",
       "      <td>1.000000</td>\n",
       "    </tr>\n",
       "  </tbody>\n",
       "</table>\n",
       "</div>"
      ],
      "text/plain": [
       "          F2         F3   F5        F18  F19  F24   F26        F27        F28  \\\n",
       "16348  120.5  29.666667  0.0   1.095000  0.0  0.0   0.0  30.000000  30.200000   \n",
       "1565    41.0  23.000000  0.0  30.916667  5.5  0.0   0.0   2.833333  17.166667   \n",
       "14588   38.5  24.333333  0.0   3.906667  4.8  0.0  22.6  28.833333  28.750000   \n",
       "14714   42.5   0.333333  0.0   0.000000  0.0  0.0   0.0  30.600000  30.666667   \n",
       "12837  142.5  30.666667  0.0  74.541667  0.5  0.0   0.0   3.500000   3.500000   \n",
       "\n",
       "             F29        F30       F31  F37       F40       F41       F42  F43  \\\n",
       "16348  30.666667   0.000000  0.000000  2.0  0.000000  0.166667  0.500000  2.0   \n",
       "1565   24.200000   0.400000  0.000000  3.6  0.400000  2.000000  3.250000  0.4   \n",
       "14588  29.333333   0.000000  0.000000  2.0  1.000000  2.833333  3.000000  2.0   \n",
       "14714  30.666667   0.000000  0.000000  1.0  1.000000  1.166667  3.166667  2.0   \n",
       "12837   5.666667  10.333333  1.666667  3.5  0.166667  0.500000  1.166667  0.0   \n",
       "\n",
       "       F44  F45       F46  \n",
       "16348  0.0  0.0  1.000000  \n",
       "1565   0.6  0.0  1.200000  \n",
       "14588  0.0  0.0  1.333333  \n",
       "14714  0.0  0.0  1.000000  \n",
       "12837  1.0  1.0  1.000000  "
      ]
     },
     "execution_count": 68,
     "metadata": {},
     "output_type": "execute_result"
    }
   ],
   "source": [
    "X_train2.head()"
   ]
  },
  {
   "cell_type": "code",
   "execution_count": 69,
   "metadata": {},
   "outputs": [],
   "source": [
    "#X_train2.corr().to_csv(\"corr.csv\") #Done!"
   ]
  },
  {
   "cell_type": "code",
   "execution_count": 70,
   "metadata": {},
   "outputs": [
    {
     "data": {
      "text/plain": [
       "<matplotlib.image.AxesImage at 0x1fb6cf70c88>"
      ]
     },
     "execution_count": 70,
     "metadata": {},
     "output_type": "execute_result"
    },
    {
     "data": {
      "image/png": "[encoded data removed]",
      "text/plain": [
       "<Figure size 288x288 with 1 Axes>"
      ]
     },
     "metadata": {
      "needs_background": "light"
     },
     "output_type": "display_data"
    }
   ],
   "source": [
    "plt.matshow(X_train2.corr())"
   ]
  },
  {
   "cell_type": "code",
   "execution_count": null,
   "metadata": {},
   "outputs": [],
   "source": []
  },
  {
   "cell_type": "code",
   "execution_count": 71,
   "metadata": {},
   "outputs": [
    {
     "data": {
      "text/plain": [
       "LogisticRegression(C=1.0, class_weight=None, dual=False, fit_intercept=True,\n",
       "          intercept_scaling=1, max_iter=100, multi_class='ovr', n_jobs=1,\n",
       "          penalty='l2', random_state=None, solver='liblinear', tol=0.0001,\n",
       "          verbose=0, warm_start=False)"
      ]
     },
     "execution_count": 71,
     "metadata": {},
     "output_type": "execute_result"
    }
   ],
   "source": [
    "logisticRegFinal.fit(X_train2, y_train)\n"
   ]
  },
  {
   "cell_type": "code",
   "execution_count": 72,
   "metadata": {},
   "outputs": [
    {
     "name": "stdout",
     "output_type": "stream",
     "text": [
      "0.9110421515386604\n"
     ]
    },
    {
     "data": {
      "text/plain": [
       "0.7698771284431605"
      ]
     },
     "execution_count": 72,
     "metadata": {},
     "output_type": "execute_result"
    }
   ],
   "source": [
    "#predictions = logisticRegFinal.predict(X_test2)\n",
    "predictions_prob = logisticRegFinal.predict_proba(X_test2)\n",
    "predictions_prob = predictions_prob[:,1]\n",
    "score = logisticRegFinal.score(X_test2, y_test)\n",
    "print(score)\n",
    "roc_auc_score(y_test, predictions_prob)"
   ]
  },
  {
   "cell_type": "code",
   "execution_count": 74,
   "metadata": {},
   "outputs": [
    {
     "data": {
      "text/plain": [
       "0.7425692141365607"
      ]
     },
     "execution_count": 74,
     "metadata": {},
     "output_type": "execute_result"
    }
   ],
   "source": [
    "pred_train2 = logisticRegFinal.predict_proba(X_train2)\n",
    "pred_train2 = pred_train2[:,1]\n",
    "roc_auc_score(y_train, pred_train2)"
   ]
  },
  {
   "cell_type": "code",
   "execution_count": 75,
   "metadata": {},
   "outputs": [
    {
     "data": {
      "text/html": [
       "<div>\n",
       "<style scoped>\n",
       "    .dataframe tbody tr th:only-of-type {\n",
       "        vertical-align: middle;\n",
       "    }\n",
       "\n",
       "    .dataframe tbody tr th {\n",
       "        vertical-align: top;\n",
       "    }\n",
       "\n",
       "    .dataframe thead th {\n",
       "        text-align: right;\n",
       "    }\n",
       "</style>\n",
       "<table border=\"1\" class=\"dataframe\">\n",
       "  <thead>\n",
       "    <tr style=\"text-align: right;\">\n",
       "      <th></th>\n",
       "      <th>F2</th>\n",
       "      <th>F3</th>\n",
       "      <th>F5</th>\n",
       "      <th>F18</th>\n",
       "      <th>F19</th>\n",
       "      <th>F24</th>\n",
       "      <th>F26</th>\n",
       "      <th>F27</th>\n",
       "      <th>F28</th>\n",
       "      <th>F29</th>\n",
       "      <th>F30</th>\n",
       "      <th>F31</th>\n",
       "      <th>F37</th>\n",
       "      <th>F40</th>\n",
       "      <th>F41</th>\n",
       "      <th>F42</th>\n",
       "      <th>F43</th>\n",
       "      <th>F44</th>\n",
       "      <th>F45</th>\n",
       "      <th>F46</th>\n",
       "    </tr>\n",
       "  </thead>\n",
       "  <tbody>\n",
       "    <tr>\n",
       "      <th>16348</th>\n",
       "      <td>120.5</td>\n",
       "      <td>29.666667</td>\n",
       "      <td>0.0</td>\n",
       "      <td>1.095000</td>\n",
       "      <td>0.0</td>\n",
       "      <td>0.0</td>\n",
       "      <td>0.0</td>\n",
       "      <td>30.000000</td>\n",
       "      <td>30.200000</td>\n",
       "      <td>30.666667</td>\n",
       "      <td>0.000000</td>\n",
       "      <td>0.000000</td>\n",
       "      <td>2.0</td>\n",
       "      <td>0.000000</td>\n",
       "      <td>0.166667</td>\n",
       "      <td>0.500000</td>\n",
       "      <td>2.0</td>\n",
       "      <td>0.0</td>\n",
       "      <td>0.0</td>\n",
       "      <td>1.000000</td>\n",
       "    </tr>\n",
       "    <tr>\n",
       "      <th>1565</th>\n",
       "      <td>41.0</td>\n",
       "      <td>23.000000</td>\n",
       "      <td>0.0</td>\n",
       "      <td>30.916667</td>\n",
       "      <td>5.5</td>\n",
       "      <td>0.0</td>\n",
       "      <td>0.0</td>\n",
       "      <td>2.833333</td>\n",
       "      <td>17.166667</td>\n",
       "      <td>24.200000</td>\n",
       "      <td>0.400000</td>\n",
       "      <td>0.000000</td>\n",
       "      <td>3.6</td>\n",
       "      <td>0.400000</td>\n",
       "      <td>2.000000</td>\n",
       "      <td>3.250000</td>\n",
       "      <td>0.4</td>\n",
       "      <td>0.6</td>\n",
       "      <td>0.0</td>\n",
       "      <td>1.200000</td>\n",
       "    </tr>\n",
       "    <tr>\n",
       "      <th>14588</th>\n",
       "      <td>38.5</td>\n",
       "      <td>24.333333</td>\n",
       "      <td>0.0</td>\n",
       "      <td>3.906667</td>\n",
       "      <td>4.8</td>\n",
       "      <td>0.0</td>\n",
       "      <td>22.6</td>\n",
       "      <td>28.833333</td>\n",
       "      <td>28.750000</td>\n",
       "      <td>29.333333</td>\n",
       "      <td>0.000000</td>\n",
       "      <td>0.000000</td>\n",
       "      <td>2.0</td>\n",
       "      <td>1.000000</td>\n",
       "      <td>2.833333</td>\n",
       "      <td>3.000000</td>\n",
       "      <td>2.0</td>\n",
       "      <td>0.0</td>\n",
       "      <td>0.0</td>\n",
       "      <td>1.333333</td>\n",
       "    </tr>\n",
       "    <tr>\n",
       "      <th>14714</th>\n",
       "      <td>42.5</td>\n",
       "      <td>0.333333</td>\n",
       "      <td>0.0</td>\n",
       "      <td>0.000000</td>\n",
       "      <td>0.0</td>\n",
       "      <td>0.0</td>\n",
       "      <td>0.0</td>\n",
       "      <td>30.600000</td>\n",
       "      <td>30.666667</td>\n",
       "      <td>30.666667</td>\n",
       "      <td>0.000000</td>\n",
       "      <td>0.000000</td>\n",
       "      <td>1.0</td>\n",
       "      <td>1.000000</td>\n",
       "      <td>1.166667</td>\n",
       "      <td>3.166667</td>\n",
       "      <td>2.0</td>\n",
       "      <td>0.0</td>\n",
       "      <td>0.0</td>\n",
       "      <td>1.000000</td>\n",
       "    </tr>\n",
       "    <tr>\n",
       "      <th>12837</th>\n",
       "      <td>142.5</td>\n",
       "      <td>30.666667</td>\n",
       "      <td>0.0</td>\n",
       "      <td>74.541667</td>\n",
       "      <td>0.5</td>\n",
       "      <td>0.0</td>\n",
       "      <td>0.0</td>\n",
       "      <td>3.500000</td>\n",
       "      <td>3.500000</td>\n",
       "      <td>5.666667</td>\n",
       "      <td>10.333333</td>\n",
       "      <td>1.666667</td>\n",
       "      <td>3.5</td>\n",
       "      <td>0.166667</td>\n",
       "      <td>0.500000</td>\n",
       "      <td>1.166667</td>\n",
       "      <td>0.0</td>\n",
       "      <td>1.0</td>\n",
       "      <td>1.0</td>\n",
       "      <td>1.000000</td>\n",
       "    </tr>\n",
       "  </tbody>\n",
       "</table>\n",
       "</div>"
      ],
      "text/plain": [
       "          F2         F3   F5        F18  F19  F24   F26        F27        F28  \\\n",
       "16348  120.5  29.666667  0.0   1.095000  0.0  0.0   0.0  30.000000  30.200000   \n",
       "1565    41.0  23.000000  0.0  30.916667  5.5  0.0   0.0   2.833333  17.166667   \n",
       "14588   38.5  24.333333  0.0   3.906667  4.8  0.0  22.6  28.833333  28.750000   \n",
       "14714   42.5   0.333333  0.0   0.000000  0.0  0.0   0.0  30.600000  30.666667   \n",
       "12837  142.5  30.666667  0.0  74.541667  0.5  0.0   0.0   3.500000   3.500000   \n",
       "\n",
       "             F29        F30       F31  F37       F40       F41       F42  F43  \\\n",
       "16348  30.666667   0.000000  0.000000  2.0  0.000000  0.166667  0.500000  2.0   \n",
       "1565   24.200000   0.400000  0.000000  3.6  0.400000  2.000000  3.250000  0.4   \n",
       "14588  29.333333   0.000000  0.000000  2.0  1.000000  2.833333  3.000000  2.0   \n",
       "14714  30.666667   0.000000  0.000000  1.0  1.000000  1.166667  3.166667  2.0   \n",
       "12837   5.666667  10.333333  1.666667  3.5  0.166667  0.500000  1.166667  0.0   \n",
       "\n",
       "       F44  F45       F46  \n",
       "16348  0.0  0.0  1.000000  \n",
       "1565   0.6  0.0  1.200000  \n",
       "14588  0.0  0.0  1.333333  \n",
       "14714  0.0  0.0  1.000000  \n",
       "12837  1.0  1.0  1.000000  "
      ]
     },
     "execution_count": 75,
     "metadata": {},
     "output_type": "execute_result"
    }
   ],
   "source": [
    "X_train2.head()"
   ]
  },
  {
   "cell_type": "code",
   "execution_count": 76,
   "metadata": {},
   "outputs": [],
   "source": [
    "#delete correlated variables F28, F41, F27, F30, F40, F43\n",
    "#27 28 30 40 41 43\n",
    "col_drop2 = [7,8,10,13,14,16]"
   ]
  },
  {
   "cell_type": "code",
   "execution_count": 77,
   "metadata": {},
   "outputs": [],
   "source": [
    "X_train3 = X_train2.drop(X_train2.columns[col_drop2], axis=1)\n",
    "X_test3 = X_test2.drop(X_test2.columns[col_drop2], axis=1)"
   ]
  },
  {
   "cell_type": "code",
   "execution_count": 78,
   "metadata": {},
   "outputs": [
    {
     "data": {
      "text/html": [
       "<div>\n",
       "<style scoped>\n",
       "    .dataframe tbody tr th:only-of-type {\n",
       "        vertical-align: middle;\n",
       "    }\n",
       "\n",
       "    .dataframe tbody tr th {\n",
       "        vertical-align: top;\n",
       "    }\n",
       "\n",
       "    .dataframe thead th {\n",
       "        text-align: right;\n",
       "    }\n",
       "</style>\n",
       "<table border=\"1\" class=\"dataframe\">\n",
       "  <thead>\n",
       "    <tr style=\"text-align: right;\">\n",
       "      <th></th>\n",
       "      <th>F2</th>\n",
       "      <th>F3</th>\n",
       "      <th>F5</th>\n",
       "      <th>F18</th>\n",
       "      <th>F19</th>\n",
       "      <th>F24</th>\n",
       "      <th>F26</th>\n",
       "      <th>F29</th>\n",
       "      <th>F31</th>\n",
       "      <th>F37</th>\n",
       "      <th>F42</th>\n",
       "      <th>F44</th>\n",
       "      <th>F45</th>\n",
       "      <th>F46</th>\n",
       "    </tr>\n",
       "  </thead>\n",
       "  <tbody>\n",
       "    <tr>\n",
       "      <th>16348</th>\n",
       "      <td>120.5</td>\n",
       "      <td>29.666667</td>\n",
       "      <td>0.0</td>\n",
       "      <td>1.095000</td>\n",
       "      <td>0.0</td>\n",
       "      <td>0.0</td>\n",
       "      <td>0.0</td>\n",
       "      <td>30.666667</td>\n",
       "      <td>0.000000</td>\n",
       "      <td>2.0</td>\n",
       "      <td>0.500000</td>\n",
       "      <td>0.0</td>\n",
       "      <td>0.0</td>\n",
       "      <td>1.000000</td>\n",
       "    </tr>\n",
       "    <tr>\n",
       "      <th>1565</th>\n",
       "      <td>41.0</td>\n",
       "      <td>23.000000</td>\n",
       "      <td>0.0</td>\n",
       "      <td>30.916667</td>\n",
       "      <td>5.5</td>\n",
       "      <td>0.0</td>\n",
       "      <td>0.0</td>\n",
       "      <td>24.200000</td>\n",
       "      <td>0.000000</td>\n",
       "      <td>3.6</td>\n",
       "      <td>3.250000</td>\n",
       "      <td>0.6</td>\n",
       "      <td>0.0</td>\n",
       "      <td>1.200000</td>\n",
       "    </tr>\n",
       "    <tr>\n",
       "      <th>14588</th>\n",
       "      <td>38.5</td>\n",
       "      <td>24.333333</td>\n",
       "      <td>0.0</td>\n",
       "      <td>3.906667</td>\n",
       "      <td>4.8</td>\n",
       "      <td>0.0</td>\n",
       "      <td>22.6</td>\n",
       "      <td>29.333333</td>\n",
       "      <td>0.000000</td>\n",
       "      <td>2.0</td>\n",
       "      <td>3.000000</td>\n",
       "      <td>0.0</td>\n",
       "      <td>0.0</td>\n",
       "      <td>1.333333</td>\n",
       "    </tr>\n",
       "    <tr>\n",
       "      <th>14714</th>\n",
       "      <td>42.5</td>\n",
       "      <td>0.333333</td>\n",
       "      <td>0.0</td>\n",
       "      <td>0.000000</td>\n",
       "      <td>0.0</td>\n",
       "      <td>0.0</td>\n",
       "      <td>0.0</td>\n",
       "      <td>30.666667</td>\n",
       "      <td>0.000000</td>\n",
       "      <td>1.0</td>\n",
       "      <td>3.166667</td>\n",
       "      <td>0.0</td>\n",
       "      <td>0.0</td>\n",
       "      <td>1.000000</td>\n",
       "    </tr>\n",
       "    <tr>\n",
       "      <th>12837</th>\n",
       "      <td>142.5</td>\n",
       "      <td>30.666667</td>\n",
       "      <td>0.0</td>\n",
       "      <td>74.541667</td>\n",
       "      <td>0.5</td>\n",
       "      <td>0.0</td>\n",
       "      <td>0.0</td>\n",
       "      <td>5.666667</td>\n",
       "      <td>1.666667</td>\n",
       "      <td>3.5</td>\n",
       "      <td>1.166667</td>\n",
       "      <td>1.0</td>\n",
       "      <td>1.0</td>\n",
       "      <td>1.000000</td>\n",
       "    </tr>\n",
       "  </tbody>\n",
       "</table>\n",
       "</div>"
      ],
      "text/plain": [
       "          F2         F3   F5        F18  F19  F24   F26        F29       F31  \\\n",
       "16348  120.5  29.666667  0.0   1.095000  0.0  0.0   0.0  30.666667  0.000000   \n",
       "1565    41.0  23.000000  0.0  30.916667  5.5  0.0   0.0  24.200000  0.000000   \n",
       "14588   38.5  24.333333  0.0   3.906667  4.8  0.0  22.6  29.333333  0.000000   \n",
       "14714   42.5   0.333333  0.0   0.000000  0.0  0.0   0.0  30.666667  0.000000   \n",
       "12837  142.5  30.666667  0.0  74.541667  0.5  0.0   0.0   5.666667  1.666667   \n",
       "\n",
       "       F37       F42  F44  F45       F46  \n",
       "16348  2.0  0.500000  0.0  0.0  1.000000  \n",
       "1565   3.6  3.250000  0.6  0.0  1.200000  \n",
       "14588  2.0  3.000000  0.0  0.0  1.333333  \n",
       "14714  1.0  3.166667  0.0  0.0  1.000000  \n",
       "12837  3.5  1.166667  1.0  1.0  1.000000  "
      ]
     },
     "execution_count": 78,
     "metadata": {},
     "output_type": "execute_result"
    }
   ],
   "source": [
    "X_train3.head()"
   ]
  },
  {
   "cell_type": "code",
   "execution_count": 79,
   "metadata": {},
   "outputs": [
    {
     "data": {
      "text/plain": [
       "LogisticRegression(C=1.0, class_weight=None, dual=False, fit_intercept=True,\n",
       "          intercept_scaling=1, max_iter=100, multi_class='ovr', n_jobs=1,\n",
       "          penalty='l2', random_state=None, solver='liblinear', tol=0.0001,\n",
       "          verbose=0, warm_start=False)"
      ]
     },
     "execution_count": 79,
     "metadata": {},
     "output_type": "execute_result"
    }
   ],
   "source": [
    "logisticRegFinal.fit(X_train3, y_train)"
   ]
  },
  {
   "cell_type": "code",
   "execution_count": 80,
   "metadata": {},
   "outputs": [
    {
     "name": "stdout",
     "output_type": "stream",
     "text": [
      "0.9110421515386604\n"
     ]
    },
    {
     "data": {
      "text/plain": [
       "0.7607543474145949"
      ]
     },
     "execution_count": 80,
     "metadata": {},
     "output_type": "execute_result"
    }
   ],
   "source": [
    "#predictions = logisticRegFinal.predict(X_test2)\n",
    "predictions_prob = logisticRegFinal.predict_proba(X_test3)\n",
    "predictions_prob = predictions_prob[:,1]\n",
    "score = logisticRegFinal.score(X_test3, y_test)\n",
    "print(score)\n",
    "roc_auc_score(y_test, predictions_prob)"
   ]
  },
  {
   "cell_type": "code",
   "execution_count": 81,
   "metadata": {},
   "outputs": [
    {
     "data": {
      "text/plain": [
       "0.7372404502188613"
      ]
     },
     "execution_count": 81,
     "metadata": {},
     "output_type": "execute_result"
    }
   ],
   "source": [
    "pred_train3 = logisticRegFinal.predict_proba(X_train3)\n",
    "pred_train3 = pred_train3[:,1]\n",
    "roc_auc_score(y_train, pred_train3)"
   ]
  },
  {
   "cell_type": "code",
   "execution_count": 476,
   "metadata": {},
   "outputs": [],
   "source": [
    "#create final file"
   ]
  },
  {
   "cell_type": "code",
   "execution_count": 477,
   "metadata": {},
   "outputs": [],
   "source": [
    "#X_test_final = data..."
   ]
  },
  {
   "cell_type": "code",
   "execution_count": 478,
   "metadata": {},
   "outputs": [],
   "source": [
    "#predictions_final = logisticRegr.predict(X_test_final)"
   ]
  },
  {
   "cell_type": "code",
   "execution_count": 479,
   "metadata": {},
   "outputs": [],
   "source": [
    "# test[\"Target\"]  = predictions_final_prob"
   ]
  },
  {
   "cell_type": "code",
   "execution_count": 480,
   "metadata": {},
   "outputs": [],
   "source": [
    "#to txt with , separator"
   ]
  },
  {
   "cell_type": "code",
   "execution_count": 481,
   "metadata": {},
   "outputs": [
    {
     "data": {
      "text/plain": [
       "'predictions = logisticRegFinal.predict(X_test)\\npredictions_prob = logisticRegFinal.predict_proba(X_test)\\npredictions_prob = predictions_prob[:,1]\\nscore = logisticRegr.score(X_test, y_test)\\nprint(score)\\nfrom sklearn.metrics import roc_auc_score\\nroc_auc_score(y_test, predictions_prob)'"
      ]
     },
     "execution_count": 481,
     "metadata": {},
     "output_type": "execute_result"
    }
   ],
   "source": [
    "\"\"\"predictions = logisticRegFinal.predict(X_test)\n",
    "predictions_prob = logisticRegFinal.predict_proba(X_test)\n",
    "predictions_prob = predictions_prob[:,1]\n",
    "score = logisticRegr.score(X_test, y_test)\n",
    "print(score)\n",
    "from sklearn.metrics import roc_auc_score\n",
    "roc_auc_score(y_test, predictions_prob)\"\"\""
   ]
  },
  {
   "cell_type": "code",
   "execution_count": 82,
   "metadata": {},
   "outputs": [
    {
     "data": {
      "text/html": [
       "<div>\n",
       "<style scoped>\n",
       "    .dataframe tbody tr th:only-of-type {\n",
       "        vertical-align: middle;\n",
       "    }\n",
       "\n",
       "    .dataframe tbody tr th {\n",
       "        vertical-align: top;\n",
       "    }\n",
       "\n",
       "    .dataframe thead th {\n",
       "        text-align: right;\n",
       "    }\n",
       "</style>\n",
       "<table border=\"1\" class=\"dataframe\">\n",
       "  <thead>\n",
       "    <tr style=\"text-align: right;\">\n",
       "      <th></th>\n",
       "      <th>ID</th>\n",
       "      <th>MONTH_NUM_FROM_EVENT</th>\n",
       "      <th>F1</th>\n",
       "      <th>F2</th>\n",
       "      <th>F3</th>\n",
       "      <th>F4</th>\n",
       "      <th>F5</th>\n",
       "      <th>F6</th>\n",
       "      <th>F7</th>\n",
       "      <th>F8</th>\n",
       "      <th>...</th>\n",
       "      <th>F40</th>\n",
       "      <th>F41</th>\n",
       "      <th>F42</th>\n",
       "      <th>F43</th>\n",
       "      <th>F44</th>\n",
       "      <th>F45</th>\n",
       "      <th>F46</th>\n",
       "      <th>F47</th>\n",
       "      <th>TARGET</th>\n",
       "      <th>ROLE</th>\n",
       "    </tr>\n",
       "  </thead>\n",
       "  <tbody>\n",
       "    <tr>\n",
       "      <th>0</th>\n",
       "      <td>1</td>\n",
       "      <td>3.5</td>\n",
       "      <td>9.0</td>\n",
       "      <td>139.6</td>\n",
       "      <td>20.500000</td>\n",
       "      <td>0.666667</td>\n",
       "      <td>0.000000</td>\n",
       "      <td>76.196667</td>\n",
       "      <td>52.563333</td>\n",
       "      <td>18.850000</td>\n",
       "      <td>...</td>\n",
       "      <td>1.0</td>\n",
       "      <td>2.333333</td>\n",
       "      <td>2.666667</td>\n",
       "      <td>1.0</td>\n",
       "      <td>0.6</td>\n",
       "      <td>0.0</td>\n",
       "      <td>1.666667</td>\n",
       "      <td>381.600000</td>\n",
       "      <td>NaN</td>\n",
       "      <td>test</td>\n",
       "    </tr>\n",
       "    <tr>\n",
       "      <th>2</th>\n",
       "      <td>3</td>\n",
       "      <td>3.5</td>\n",
       "      <td>5.0</td>\n",
       "      <td>37.5</td>\n",
       "      <td>29.333333</td>\n",
       "      <td>4.500000</td>\n",
       "      <td>0.000000</td>\n",
       "      <td>232.102500</td>\n",
       "      <td>297.790000</td>\n",
       "      <td>2.091667</td>\n",
       "      <td>...</td>\n",
       "      <td>0.0</td>\n",
       "      <td>0.000000</td>\n",
       "      <td>0.166667</td>\n",
       "      <td>0.0</td>\n",
       "      <td>1.0</td>\n",
       "      <td>0.0</td>\n",
       "      <td>1.600000</td>\n",
       "      <td>1356.800000</td>\n",
       "      <td>NaN</td>\n",
       "      <td>test</td>\n",
       "    </tr>\n",
       "    <tr>\n",
       "      <th>5</th>\n",
       "      <td>6</td>\n",
       "      <td>3.5</td>\n",
       "      <td>10.0</td>\n",
       "      <td>115.4</td>\n",
       "      <td>30.000000</td>\n",
       "      <td>0.250000</td>\n",
       "      <td>0.000000</td>\n",
       "      <td>770.958333</td>\n",
       "      <td>770.856667</td>\n",
       "      <td>0.046000</td>\n",
       "      <td>...</td>\n",
       "      <td>0.0</td>\n",
       "      <td>0.500000</td>\n",
       "      <td>2.500000</td>\n",
       "      <td>1.0</td>\n",
       "      <td>0.0</td>\n",
       "      <td>0.0</td>\n",
       "      <td>1.000000</td>\n",
       "      <td>286.833333</td>\n",
       "      <td>NaN</td>\n",
       "      <td>test</td>\n",
       "    </tr>\n",
       "    <tr>\n",
       "      <th>6</th>\n",
       "      <td>7</td>\n",
       "      <td>3.5</td>\n",
       "      <td>13.0</td>\n",
       "      <td>136.5</td>\n",
       "      <td>9.000000</td>\n",
       "      <td>1.666667</td>\n",
       "      <td>0.000000</td>\n",
       "      <td>6.800000</td>\n",
       "      <td>5.990000</td>\n",
       "      <td>0.320000</td>\n",
       "      <td>...</td>\n",
       "      <td>0.2</td>\n",
       "      <td>0.600000</td>\n",
       "      <td>3.000000</td>\n",
       "      <td>0.0</td>\n",
       "      <td>0.0</td>\n",
       "      <td>0.0</td>\n",
       "      <td>1.333333</td>\n",
       "      <td>193.833333</td>\n",
       "      <td>NaN</td>\n",
       "      <td>test</td>\n",
       "    </tr>\n",
       "    <tr>\n",
       "      <th>11</th>\n",
       "      <td>12</td>\n",
       "      <td>3.5</td>\n",
       "      <td>8.0</td>\n",
       "      <td>11.5</td>\n",
       "      <td>18.500000</td>\n",
       "      <td>0.000000</td>\n",
       "      <td>0.833333</td>\n",
       "      <td>325.658333</td>\n",
       "      <td>39.080000</td>\n",
       "      <td>2.526000</td>\n",
       "      <td>...</td>\n",
       "      <td>1.2</td>\n",
       "      <td>1.400000</td>\n",
       "      <td>1.666667</td>\n",
       "      <td>1.0</td>\n",
       "      <td>0.0</td>\n",
       "      <td>0.0</td>\n",
       "      <td>1.000000</td>\n",
       "      <td>367.200000</td>\n",
       "      <td>NaN</td>\n",
       "      <td>test</td>\n",
       "    </tr>\n",
       "  </tbody>\n",
       "</table>\n",
       "<p>5 rows × 50 columns</p>\n",
       "</div>"
      ],
      "text/plain": [
       "    ID  MONTH_NUM_FROM_EVENT    F1     F2         F3        F4        F5  \\\n",
       "0    1                   3.5   9.0  139.6  20.500000  0.666667  0.000000   \n",
       "2    3                   3.5   5.0   37.5  29.333333  4.500000  0.000000   \n",
       "5    6                   3.5  10.0  115.4  30.000000  0.250000  0.000000   \n",
       "6    7                   3.5  13.0  136.5   9.000000  1.666667  0.000000   \n",
       "11  12                   3.5   8.0   11.5  18.500000  0.000000  0.833333   \n",
       "\n",
       "            F6          F7         F8  ...   F40       F41       F42  F43  \\\n",
       "0    76.196667   52.563333  18.850000  ...   1.0  2.333333  2.666667  1.0   \n",
       "2   232.102500  297.790000   2.091667  ...   0.0  0.000000  0.166667  0.0   \n",
       "5   770.958333  770.856667   0.046000  ...   0.0  0.500000  2.500000  1.0   \n",
       "6     6.800000    5.990000   0.320000  ...   0.2  0.600000  3.000000  0.0   \n",
       "11  325.658333   39.080000   2.526000  ...   1.2  1.400000  1.666667  1.0   \n",
       "\n",
       "    F44  F45       F46          F47  TARGET  ROLE  \n",
       "0   0.6  0.0  1.666667   381.600000     NaN  test  \n",
       "2   1.0  0.0  1.600000  1356.800000     NaN  test  \n",
       "5   0.0  0.0  1.000000   286.833333     NaN  test  \n",
       "6   0.0  0.0  1.333333   193.833333     NaN  test  \n",
       "11  0.0  0.0  1.000000   367.200000     NaN  test  \n",
       "\n",
       "[5 rows x 50 columns]"
      ]
     },
     "execution_count": 82,
     "metadata": {},
     "output_type": "execute_result"
    }
   ],
   "source": [
    "datate.head()"
   ]
  },
  {
   "cell_type": "code",
   "execution_count": 83,
   "metadata": {},
   "outputs": [],
   "source": [
    "X_test_final = datate.drop(datate.columns[[0,1,24,33,34,48,49]], axis=1)\n",
    "X_test_final = X_test_final.drop(X_test_final.columns[col_drop], axis=1)\n",
    "X_test_final = X_test_final.drop(X_test_final.columns[col_drop2], axis=1)"
   ]
  },
  {
   "cell_type": "code",
   "execution_count": 84,
   "metadata": {},
   "outputs": [
    {
     "data": {
      "text/html": [
       "<div>\n",
       "<style scoped>\n",
       "    .dataframe tbody tr th:only-of-type {\n",
       "        vertical-align: middle;\n",
       "    }\n",
       "\n",
       "    .dataframe tbody tr th {\n",
       "        vertical-align: top;\n",
       "    }\n",
       "\n",
       "    .dataframe thead th {\n",
       "        text-align: right;\n",
       "    }\n",
       "</style>\n",
       "<table border=\"1\" class=\"dataframe\">\n",
       "  <thead>\n",
       "    <tr style=\"text-align: right;\">\n",
       "      <th></th>\n",
       "      <th>F2</th>\n",
       "      <th>F3</th>\n",
       "      <th>F5</th>\n",
       "      <th>F18</th>\n",
       "      <th>F19</th>\n",
       "      <th>F24</th>\n",
       "      <th>F26</th>\n",
       "      <th>F29</th>\n",
       "      <th>F31</th>\n",
       "      <th>F37</th>\n",
       "      <th>F42</th>\n",
       "      <th>F44</th>\n",
       "      <th>F45</th>\n",
       "      <th>F46</th>\n",
       "    </tr>\n",
       "  </thead>\n",
       "  <tbody>\n",
       "    <tr>\n",
       "      <th>0</th>\n",
       "      <td>139.6</td>\n",
       "      <td>20.500000</td>\n",
       "      <td>0.000000</td>\n",
       "      <td>8.0</td>\n",
       "      <td>2.200000</td>\n",
       "      <td>0.000000</td>\n",
       "      <td>10.5</td>\n",
       "      <td>27.666667</td>\n",
       "      <td>0.000000</td>\n",
       "      <td>10.333333</td>\n",
       "      <td>2.666667</td>\n",
       "      <td>0.6</td>\n",
       "      <td>0.0</td>\n",
       "      <td>1.666667</td>\n",
       "    </tr>\n",
       "    <tr>\n",
       "      <th>2</th>\n",
       "      <td>37.5</td>\n",
       "      <td>29.333333</td>\n",
       "      <td>0.000000</td>\n",
       "      <td>9.0</td>\n",
       "      <td>0.333333</td>\n",
       "      <td>0.000000</td>\n",
       "      <td>0.0</td>\n",
       "      <td>26.666667</td>\n",
       "      <td>0.000000</td>\n",
       "      <td>4.833333</td>\n",
       "      <td>0.166667</td>\n",
       "      <td>1.0</td>\n",
       "      <td>0.0</td>\n",
       "      <td>1.600000</td>\n",
       "    </tr>\n",
       "    <tr>\n",
       "      <th>5</th>\n",
       "      <td>115.4</td>\n",
       "      <td>30.000000</td>\n",
       "      <td>0.000000</td>\n",
       "      <td>30.0</td>\n",
       "      <td>0.000000</td>\n",
       "      <td>0.000000</td>\n",
       "      <td>0.0</td>\n",
       "      <td>29.333333</td>\n",
       "      <td>0.000000</td>\n",
       "      <td>5.833333</td>\n",
       "      <td>2.500000</td>\n",
       "      <td>0.0</td>\n",
       "      <td>0.0</td>\n",
       "      <td>1.000000</td>\n",
       "    </tr>\n",
       "    <tr>\n",
       "      <th>6</th>\n",
       "      <td>136.5</td>\n",
       "      <td>9.000000</td>\n",
       "      <td>0.000000</td>\n",
       "      <td>0.0</td>\n",
       "      <td>0.000000</td>\n",
       "      <td>0.000000</td>\n",
       "      <td>0.0</td>\n",
       "      <td>30.500000</td>\n",
       "      <td>0.000000</td>\n",
       "      <td>3.800000</td>\n",
       "      <td>3.000000</td>\n",
       "      <td>0.0</td>\n",
       "      <td>0.0</td>\n",
       "      <td>1.333333</td>\n",
       "    </tr>\n",
       "    <tr>\n",
       "      <th>11</th>\n",
       "      <td>11.5</td>\n",
       "      <td>18.500000</td>\n",
       "      <td>0.833333</td>\n",
       "      <td>0.0</td>\n",
       "      <td>0.000000</td>\n",
       "      <td>0.166667</td>\n",
       "      <td>0.0</td>\n",
       "      <td>8.500000</td>\n",
       "      <td>6.166667</td>\n",
       "      <td>1.400000</td>\n",
       "      <td>1.666667</td>\n",
       "      <td>0.0</td>\n",
       "      <td>0.0</td>\n",
       "      <td>1.000000</td>\n",
       "    </tr>\n",
       "  </tbody>\n",
       "</table>\n",
       "</div>"
      ],
      "text/plain": [
       "       F2         F3        F5   F18       F19       F24   F26        F29  \\\n",
       "0   139.6  20.500000  0.000000   8.0  2.200000  0.000000  10.5  27.666667   \n",
       "2    37.5  29.333333  0.000000   9.0  0.333333  0.000000   0.0  26.666667   \n",
       "5   115.4  30.000000  0.000000  30.0  0.000000  0.000000   0.0  29.333333   \n",
       "6   136.5   9.000000  0.000000   0.0  0.000000  0.000000   0.0  30.500000   \n",
       "11   11.5  18.500000  0.833333   0.0  0.000000  0.166667   0.0   8.500000   \n",
       "\n",
       "         F31        F37       F42  F44  F45       F46  \n",
       "0   0.000000  10.333333  2.666667  0.6  0.0  1.666667  \n",
       "2   0.000000   4.833333  0.166667  1.0  0.0  1.600000  \n",
       "5   0.000000   5.833333  2.500000  0.0  0.0  1.000000  \n",
       "6   0.000000   3.800000  3.000000  0.0  0.0  1.333333  \n",
       "11  6.166667   1.400000  1.666667  0.0  0.0  1.000000  "
      ]
     },
     "execution_count": 84,
     "metadata": {},
     "output_type": "execute_result"
    }
   ],
   "source": [
    "X_test_final.head()"
   ]
  },
  {
   "cell_type": "code",
   "execution_count": 85,
   "metadata": {},
   "outputs": [],
   "source": [
    "predictions_final_prob = logisticRegFinal.predict_proba(X_test_final)\n",
    "predictions_final_prob = predictions_final_prob[:,1]"
   ]
  },
  {
   "cell_type": "code",
   "execution_count": null,
   "metadata": {},
   "outputs": [],
   "source": []
  },
  {
   "cell_type": "code",
   "execution_count": 86,
   "metadata": {},
   "outputs": [
    {
     "data": {
      "text/plain": [
       "4305"
      ]
     },
     "execution_count": 86,
     "metadata": {},
     "output_type": "execute_result"
    }
   ],
   "source": [
    "len(test[\"TARGET\"] )"
   ]
  },
  {
   "cell_type": "code",
   "execution_count": 87,
   "metadata": {},
   "outputs": [
    {
     "data": {
      "text/plain": [
       "4305"
      ]
     },
     "execution_count": 87,
     "metadata": {},
     "output_type": "execute_result"
    }
   ],
   "source": [
    "len(X_test_final)"
   ]
  },
  {
   "cell_type": "code",
   "execution_count": 88,
   "metadata": {},
   "outputs": [],
   "source": [
    "test[\"TARGET\"]  = np.round(predictions_final_prob,6)"
   ]
  },
  {
   "cell_type": "code",
   "execution_count": 89,
   "metadata": {},
   "outputs": [
    {
     "data": {
      "text/html": [
       "<div>\n",
       "<style scoped>\n",
       "    .dataframe tbody tr th:only-of-type {\n",
       "        vertical-align: middle;\n",
       "    }\n",
       "\n",
       "    .dataframe tbody tr th {\n",
       "        vertical-align: top;\n",
       "    }\n",
       "\n",
       "    .dataframe thead th {\n",
       "        text-align: right;\n",
       "    }\n",
       "</style>\n",
       "<table border=\"1\" class=\"dataframe\">\n",
       "  <thead>\n",
       "    <tr style=\"text-align: right;\">\n",
       "      <th></th>\n",
       "      <th>ID</th>\n",
       "      <th>TARGET</th>\n",
       "    </tr>\n",
       "  </thead>\n",
       "  <tbody>\n",
       "    <tr>\n",
       "      <th>0</th>\n",
       "      <td>1</td>\n",
       "      <td>0.037827</td>\n",
       "    </tr>\n",
       "    <tr>\n",
       "      <th>1</th>\n",
       "      <td>3</td>\n",
       "      <td>0.058306</td>\n",
       "    </tr>\n",
       "    <tr>\n",
       "      <th>2</th>\n",
       "      <td>6</td>\n",
       "      <td>0.034273</td>\n",
       "    </tr>\n",
       "    <tr>\n",
       "      <th>3</th>\n",
       "      <td>7</td>\n",
       "      <td>0.055257</td>\n",
       "    </tr>\n",
       "    <tr>\n",
       "      <th>4</th>\n",
       "      <td>12</td>\n",
       "      <td>0.074206</td>\n",
       "    </tr>\n",
       "  </tbody>\n",
       "</table>\n",
       "</div>"
      ],
      "text/plain": [
       "   ID    TARGET\n",
       "0   1  0.037827\n",
       "1   3  0.058306\n",
       "2   6  0.034273\n",
       "3   7  0.055257\n",
       "4  12  0.074206"
      ]
     },
     "execution_count": 89,
     "metadata": {},
     "output_type": "execute_result"
    }
   ],
   "source": [
    "test.head()"
   ]
  },
  {
   "cell_type": "code",
   "execution_count": 394,
   "metadata": {},
   "outputs": [
    {
     "data": {
      "text/html": [
       "<div>\n",
       "<style scoped>\n",
       "    .dataframe tbody tr th:only-of-type {\n",
       "        vertical-align: middle;\n",
       "    }\n",
       "\n",
       "    .dataframe tbody tr th {\n",
       "        vertical-align: top;\n",
       "    }\n",
       "\n",
       "    .dataframe thead th {\n",
       "        text-align: right;\n",
       "    }\n",
       "</style>\n",
       "<table border=\"1\" class=\"dataframe\">\n",
       "  <thead>\n",
       "    <tr style=\"text-align: right;\">\n",
       "      <th></th>\n",
       "      <th>ID</th>\n",
       "      <th>TARGET</th>\n",
       "    </tr>\n",
       "  </thead>\n",
       "  <tbody>\n",
       "    <tr>\n",
       "      <th>count</th>\n",
       "      <td>4305.000000</td>\n",
       "      <td>4305.000000</td>\n",
       "    </tr>\n",
       "    <tr>\n",
       "      <th>mean</th>\n",
       "      <td>10234.606736</td>\n",
       "      <td>0.077802</td>\n",
       "    </tr>\n",
       "    <tr>\n",
       "      <th>std</th>\n",
       "      <td>5500.160235</td>\n",
       "      <td>0.070577</td>\n",
       "    </tr>\n",
       "    <tr>\n",
       "      <th>min</th>\n",
       "      <td>1.000000</td>\n",
       "      <td>0.001404</td>\n",
       "    </tr>\n",
       "    <tr>\n",
       "      <th>25%</th>\n",
       "      <td>5761.000000</td>\n",
       "      <td>0.029492</td>\n",
       "    </tr>\n",
       "    <tr>\n",
       "      <th>50%</th>\n",
       "      <td>10372.000000</td>\n",
       "      <td>0.058858</td>\n",
       "    </tr>\n",
       "    <tr>\n",
       "      <th>75%</th>\n",
       "      <td>14917.000000</td>\n",
       "      <td>0.105553</td>\n",
       "    </tr>\n",
       "    <tr>\n",
       "      <th>max</th>\n",
       "      <td>19680.000000</td>\n",
       "      <td>1.000000</td>\n",
       "    </tr>\n",
       "  </tbody>\n",
       "</table>\n",
       "</div>"
      ],
      "text/plain": [
       "                 ID       TARGET\n",
       "count   4305.000000  4305.000000\n",
       "mean   10234.606736     0.077802\n",
       "std     5500.160235     0.070577\n",
       "min        1.000000     0.001404\n",
       "25%     5761.000000     0.029492\n",
       "50%    10372.000000     0.058858\n",
       "75%    14917.000000     0.105553\n",
       "max    19680.000000     1.000000"
      ]
     },
     "execution_count": 394,
     "metadata": {},
     "output_type": "execute_result"
    }
   ],
   "source": [
    "test.describe()"
   ]
  },
  {
   "cell_type": "code",
   "execution_count": 397,
   "metadata": {},
   "outputs": [],
   "source": [
    "test.to_csv(\"LiubashenkoDaryna_test.txt\",index=False)"
   ]
  }
 ],
 "metadata": {
  "kernelspec": {
   "display_name": "Python 3",
   "language": "python",
   "name": "python3"
  },
  "language_info": {
   "codemirror_mode": {
    "name": "ipython",
    "version": 3
   },
   "file_extension": ".py",
   "mimetype": "text/x-python",
   "name": "python",
   "nbconvert_exporter": "python",
   "pygments_lexer": "ipython3",
   "version": "3.7.0"
  }
 },
 "nbformat": 4,
 "nbformat_minor": 2
}
